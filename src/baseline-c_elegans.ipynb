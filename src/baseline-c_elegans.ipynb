{
 "cells": [
  {
   "cell_type": "code",
   "execution_count": 4,
   "metadata": {
    "collapsed": true
   },
   "outputs": [],
   "source": [
    "from sklearn.ensemble import GradientBoostingRegressor\n",
    "from sklearn import cross_validation\n",
    "from sklearn.preprocessing import LabelBinarizer\n",
    "import sklearn\n",
    "import pandas as pd\n",
    "import numpy as np\n",
    "import xgboost as xg\n",
    "\n",
    "%matplotlib inline"
   ]
  },
  {
   "cell_type": "code",
   "execution_count": 3,
   "metadata": {},
   "outputs": [],
   "source": [
    "c_elegans_features = np.load(\"../data/c_elegans_features.npy\")\n",
    "c_elegans_labels = [label.strip() for label in open(\"../data/c_elegans_names.txt\").readlines()]"
   ]
  },
  {
   "cell_type": "code",
   "execution_count": 9,
   "metadata": {},
   "outputs": [
    {
     "ename": "ValueError",
     "evalue": "labels ['Successful Injections' 'Success'] not contained in axis",
     "output_type": "error",
     "traceback": [
      "\u001b[0;31m---------------------------------------------------------------------------\u001b[0m",
      "\u001b[0;31mValueError\u001b[0m                                Traceback (most recent call last)",
      "\u001b[0;32m<ipython-input-9-d86ff760604d>\u001b[0m in \u001b[0;36m<module>\u001b[0;34m()\u001b[0m\n\u001b[1;32m      1\u001b[0m \u001b[0mdf\u001b[0m \u001b[0;34m=\u001b[0m \u001b[0mpd\u001b[0m\u001b[0;34m.\u001b[0m\u001b[0mDataFrame\u001b[0m\u001b[0;34m(\u001b[0m\u001b[0mc_elegans_features\u001b[0m\u001b[0;34m,\u001b[0m \u001b[0mcolumns\u001b[0m\u001b[0;34m=\u001b[0m\u001b[0mc_elegans_labels\u001b[0m\u001b[0;34m)\u001b[0m\u001b[0;34m\u001b[0m\u001b[0m\n\u001b[0;32m----> 2\u001b[0;31m \u001b[0mdf\u001b[0m \u001b[0;34m=\u001b[0m \u001b[0mdf\u001b[0m\u001b[0;34m.\u001b[0m\u001b[0mdrop\u001b[0m\u001b[0;34m(\u001b[0m\u001b[0maxis\u001b[0m \u001b[0;34m=\u001b[0m \u001b[0;36m1\u001b[0m\u001b[0;34m,\u001b[0m \u001b[0mlabels\u001b[0m \u001b[0;34m=\u001b[0m \u001b[0;34m[\u001b[0m\u001b[0;34m\"Successful Injections\"\u001b[0m\u001b[0;34m,\u001b[0m \u001b[0;34m\"Success\"\u001b[0m\u001b[0;34m]\u001b[0m\u001b[0;34m)\u001b[0m\u001b[0;34m\u001b[0m\u001b[0m\n\u001b[0m",
      "\u001b[0;32m/home/deadhead/miniconda3/envs/hackseq_2017/lib/python2.7/site-packages/pandas/core/generic.pyc\u001b[0m in \u001b[0;36mdrop\u001b[0;34m(self, labels, axis, level, inplace, errors)\u001b[0m\n\u001b[1;32m   1875\u001b[0m                 \u001b[0mnew_axis\u001b[0m \u001b[0;34m=\u001b[0m \u001b[0maxis\u001b[0m\u001b[0;34m.\u001b[0m\u001b[0mdrop\u001b[0m\u001b[0;34m(\u001b[0m\u001b[0mlabels\u001b[0m\u001b[0;34m,\u001b[0m \u001b[0mlevel\u001b[0m\u001b[0;34m=\u001b[0m\u001b[0mlevel\u001b[0m\u001b[0;34m,\u001b[0m \u001b[0merrors\u001b[0m\u001b[0;34m=\u001b[0m\u001b[0merrors\u001b[0m\u001b[0;34m)\u001b[0m\u001b[0;34m\u001b[0m\u001b[0m\n\u001b[1;32m   1876\u001b[0m             \u001b[0;32melse\u001b[0m\u001b[0;34m:\u001b[0m\u001b[0;34m\u001b[0m\u001b[0m\n\u001b[0;32m-> 1877\u001b[0;31m                 \u001b[0mnew_axis\u001b[0m \u001b[0;34m=\u001b[0m \u001b[0maxis\u001b[0m\u001b[0;34m.\u001b[0m\u001b[0mdrop\u001b[0m\u001b[0;34m(\u001b[0m\u001b[0mlabels\u001b[0m\u001b[0;34m,\u001b[0m \u001b[0merrors\u001b[0m\u001b[0;34m=\u001b[0m\u001b[0merrors\u001b[0m\u001b[0;34m)\u001b[0m\u001b[0;34m\u001b[0m\u001b[0m\n\u001b[0m\u001b[1;32m   1878\u001b[0m             \u001b[0mdropped\u001b[0m \u001b[0;34m=\u001b[0m \u001b[0mself\u001b[0m\u001b[0;34m.\u001b[0m\u001b[0mreindex\u001b[0m\u001b[0;34m(\u001b[0m\u001b[0;34m**\u001b[0m\u001b[0;34m{\u001b[0m\u001b[0maxis_name\u001b[0m\u001b[0;34m:\u001b[0m \u001b[0mnew_axis\u001b[0m\u001b[0;34m}\u001b[0m\u001b[0;34m)\u001b[0m\u001b[0;34m\u001b[0m\u001b[0m\n\u001b[1;32m   1879\u001b[0m             \u001b[0;32mtry\u001b[0m\u001b[0;34m:\u001b[0m\u001b[0;34m\u001b[0m\u001b[0m\n",
      "\u001b[0;32m/home/deadhead/miniconda3/envs/hackseq_2017/lib/python2.7/site-packages/pandas/indexes/base.pyc\u001b[0m in \u001b[0;36mdrop\u001b[0;34m(self, labels, errors)\u001b[0m\n\u001b[1;32m   3049\u001b[0m             \u001b[0;32mif\u001b[0m \u001b[0merrors\u001b[0m \u001b[0;34m!=\u001b[0m \u001b[0;34m'ignore'\u001b[0m\u001b[0;34m:\u001b[0m\u001b[0;34m\u001b[0m\u001b[0m\n\u001b[1;32m   3050\u001b[0m                 raise ValueError('labels %s not contained in axis' %\n\u001b[0;32m-> 3051\u001b[0;31m                                  labels[mask])\n\u001b[0m\u001b[1;32m   3052\u001b[0m             \u001b[0mindexer\u001b[0m \u001b[0;34m=\u001b[0m \u001b[0mindexer\u001b[0m\u001b[0;34m[\u001b[0m\u001b[0;34m~\u001b[0m\u001b[0mmask\u001b[0m\u001b[0;34m]\u001b[0m\u001b[0;34m\u001b[0m\u001b[0m\n\u001b[1;32m   3053\u001b[0m         \u001b[0;32mreturn\u001b[0m \u001b[0mself\u001b[0m\u001b[0;34m.\u001b[0m\u001b[0mdelete\u001b[0m\u001b[0;34m(\u001b[0m\u001b[0mindexer\u001b[0m\u001b[0;34m)\u001b[0m\u001b[0;34m\u001b[0m\u001b[0m\n",
      "\u001b[0;31mValueError\u001b[0m: labels ['Successful Injections' 'Success'] not contained in axis"
     ]
    }
   ],
   "source": [
    "df = pd.DataFrame(c_elegans_features, columns=c_elegans_labels)\n",
    "df = df.drop(axis = 1, labels = [\"Successful Injections\", \"Success\"])"
   ]
  },
  {
   "cell_type": "code",
   "execution_count": 49,
   "metadata": {},
   "outputs": [
    {
     "data": {
      "text/plain": [
       "(12984, 4514)"
      ]
     },
     "execution_count": 49,
     "metadata": {},
     "output_type": "execute_result"
    }
   ],
   "source": [
    "dummy_df = pd.get_dummies(df).dropna(axis=0)\n",
    "dummy_df.shape"
   ]
  },
  {
   "cell_type": "code",
   "execution_count": 55,
   "metadata": {
    "collapsed": true
   },
   "outputs": [],
   "source": [
    "cols = dummy_df.columns.tolist()\n",
    "cols.append(cols.pop(cols.index('lfc')))\n",
    "dummy_df = dummy_df.reindex(columns= cols)"
   ]
  },
  {
   "cell_type": "code",
   "execution_count": 56,
   "metadata": {},
   "outputs": [
    {
     "data": {
      "text/plain": [
       "'lfc'"
      ]
     },
     "execution_count": 56,
     "metadata": {},
     "output_type": "execute_result"
    }
   ],
   "source": [
    "dummy_df.columns[-1]"
   ]
  },
  {
   "cell_type": "code",
   "execution_count": 57,
   "metadata": {
    "collapsed": true
   },
   "outputs": [],
   "source": [
    "X, y = dummy_df.iloc[:,:-1].values, dummy_df.iloc[:,-1].values"
   ]
  },
  {
   "cell_type": "code",
   "execution_count": 58,
   "metadata": {},
   "outputs": [
    {
     "data": {
      "text/plain": [
       "array([-2.51362872, -2.83527368, -2.50070136, -5.03231367, -1.77300729])"
      ]
     },
     "execution_count": 58,
     "metadata": {},
     "output_type": "execute_result"
    }
   ],
   "source": [
    "model = GradientBoostingRegressor()\n",
    "cross_val = cross_validation.cross_val_score(estimator=model, X=X, y=y, cv = 5, scoring=\"mean_squared_error\")\n",
    "sum(abs(cross_val))/len(cross_val)"
   ]
  },
  {
   "cell_type": "code",
   "execution_count": 61,
   "metadata": {},
   "outputs": [
    {
     "data": {
      "text/plain": [
       "2.930984944"
      ]
     },
     "execution_count": 61,
     "metadata": {},
     "output_type": "execute_result"
    }
   ],
   "source": [
    "-sum([-2.51362872, -2.83527368, -2.50070136, -5.03231367, -1.77300729])/5"
   ]
  },
  {
   "cell_type": "code",
   "execution_count": 60,
   "metadata": {},
   "outputs": [
    {
     "data": {
      "text/plain": [
       "-2.717733243254866"
      ]
     },
     "execution_count": 60,
     "metadata": {},
     "output_type": "execute_result"
    }
   ],
   "source": [
    "model = xg.XGBRegressor()\n",
    "cross_val = cross_validation.cross_val_score(estimator=model, X=X, y=y, cv = 5, scoring=\"mean_squared_error\")"
   ]
  },
  {
   "cell_type": "code",
   "execution_count": 62,
   "metadata": {},
   "outputs": [
    {
     "data": {
      "text/plain": [
       "2.717733243254866"
      ]
     },
     "execution_count": 62,
     "metadata": {},
     "output_type": "execute_result"
    }
   ],
   "source": [
    "-sum(cross_val)/len(cross_val)"
   ]
  },
  {
   "cell_type": "code",
   "execution_count": 72,
   "metadata": {},
   "outputs": [
    {
     "data": {
      "text/plain": [
       "1.2536004501508315"
      ]
     },
     "execution_count": 72,
     "metadata": {},
     "output_type": "execute_result"
    }
   ],
   "source": [
    "2.930984944/2.3380535190836502"
   ]
  },
  {
   "cell_type": "code",
   "execution_count": 70,
   "metadata": {
    "collapsed": true
   },
   "outputs": [],
   "source": [
    "model = xg.XGBRegressor(n_estimators=1000)\n",
    "cross_val = cross_validation.cross_val_score(estimator=model, X=X, y=y, cv = 5, scoring=\"mean_squared_error\")"
   ]
  },
  {
   "cell_type": "code",
   "execution_count": 71,
   "metadata": {},
   "outputs": [
    {
     "data": {
      "text/plain": [
       "2.3380535190836502"
      ]
     },
     "execution_count": 71,
     "metadata": {},
     "output_type": "execute_result"
    }
   ],
   "source": [
    "-sum(cross_val)/len(cross_val)"
   ]
  },
  {
   "cell_type": "code",
   "execution_count": 44,
   "metadata": {},
   "outputs": [
    {
     "data": {
      "text/plain": [
       "[149]"
      ]
     },
     "execution_count": 44,
     "metadata": {},
     "output_type": "execute_result"
    }
   ],
   "source": [
    "[i for i,j in enumerate(dummy_df.columns.values) if j == \"lfc\"]"
   ]
  },
  {
   "cell_type": "code",
   "execution_count": 74,
   "metadata": {
    "collapsed": true
   },
   "outputs": [],
   "source": [
    "! git add baseline.ipynb"
   ]
  },
  {
   "cell_type": "code",
   "execution_count": 75,
   "metadata": {},
   "outputs": [
    {
     "name": "stdout",
     "output_type": "stream",
     "text": [
      "remote: Counting objects: 94, done.\u001b[K\n",
      "remote: Compressing objects: 100% (78/78), done.\u001b[K\n",
      "remote: Total 94 (delta 21), reused 89 (delta 16), pack-reused 0\u001b[K\n",
      "Unpacking objects: 100% (94/94), done.\n",
      "From github.com:hackseq/2017_project_8\n",
      "   61019cb..04eb77e  master     -> origin/master\n",
      "Updating 61019cb..04eb77e\n",
      "Fast-forward\n",
      " ...CRISPR_sgRNA_Database_Responses_Anon_30mers.csv |   74 \u001b[32m+\u001b[m\n",
      " .../analysis/hackseq_featurization.py              |    2 \u001b[32m+\u001b[m\u001b[31m-\u001b[m\n",
      " ...d_+_UTR_+_2000_upstream_+_2000_downstream.fasta |   57 \u001b[32m+\u001b[m\n",
      " ...d_+_UTR_+_2000_upstream_+_2000_downstream.fasta |   57 \u001b[32m+\u001b[m\n",
      " ...d_+_UTR_+_2000_upstream_+_2000_downstream.fasta |   63 \u001b[32m+\u001b[m\n",
      " ...d_+_UTR_+_2000_upstream_+_2000_downstream.fasta |   92 \u001b[32m+\u001b[m\n",
      " ...d_+_UTR_+_1072_upstream_+_2000_downstream.fasta |   56 \u001b[32m+\u001b[m\n",
      " ...d_+_UTR_+_2000_upstream_+_2000_downstream.fasta |   89 \u001b[32m+\u001b[m\n",
      " ...iced_+_UTR_+_939_upstream_+_78_downstream.fasta |   34 \u001b[32m+\u001b[m\n",
      " ...ed_+_UTR_+_897_upstream_+_2000_downstream.fasta |   62 \u001b[32m+\u001b[m\n",
      " .../C32E8.11unspliced_+_UTR_+_2000_upstream.fasta  |  143 \u001b[32m+\u001b[m\n",
      " ...d_+_UTR_+_2000_upstream_+_2000_downstream.fasta |   68 \u001b[32m+\u001b[m\n",
      " ...d_+_UTR_+_1934_upstream_+_2000_downstream.fasta |   90 \u001b[32m+\u001b[m\n",
      " ...ed_+_UTR_+_751_upstream_+_2000_downstream.fasta |  117 \u001b[32m+\u001b[m\n",
      " ...d_+_UTR_+_2000_upstream_+_2000_downstream.fasta |  108 \u001b[32m+\u001b[m\n",
      " ...ed_+_UTR_+_886_upstream_+_2000_downstream.fasta |   51 \u001b[32m+\u001b[m\n",
      " ...52B11.5unspliced_+_UTR_+_2000_upstream(1).fasta |   59 \u001b[32m+\u001b[m\n",
      " .../C52B11.5unspliced_+_UTR_+_2000_upstream.fasta  |   59 \u001b[32m+\u001b[m\n",
      " ...d_+_UTR_+_2000_upstream_+_2000_downstream.fasta |   61 \u001b[32m+\u001b[m\n",
      " ...d_+_UTR_+_2000_upstream_+_2000_downstream.fasta |   61 \u001b[32m+\u001b[m\n",
      " ...d_+_UTR_+_2000_upstream_+_2000_downstream.fasta |   69 \u001b[32m+\u001b[m\n",
      " ..._UTR_+_2000_upstream_+_2000_downstream(1).fasta |  119 \u001b[32m+\u001b[m\n",
      " ...d_+_UTR_+_2000_upstream_+_2000_downstream.fasta |   59 \u001b[32m+\u001b[m\n",
      " ...d_+_UTR_+_2000_upstream_+_2000_downstream.fasta |  117 \u001b[32m+\u001b[m\n",
      " ...F18F11.5unspliced_+_UTR_+_2000_downstream.fasta |   96 \u001b[32m+\u001b[m\n",
      " ...d_+_UTR_+_2000_upstream_+_2000_downstream.fasta |   75 \u001b[32m+\u001b[m\n",
      " .../F21A3.7aunspliced_+_UTR_+_2000_upstream.fasta  |  142 \u001b[32m+\u001b[m\n",
      " ...ed_+_UTR_+_329_upstream_+_2000_downstream.fasta |   49 \u001b[32m+\u001b[m\n",
      " ...d_+_UTR_+_2000_upstream_+_2000_downstream.fasta |   65 \u001b[32m+\u001b[m\n",
      " ...d_+_UTR_+_2000_upstream_+_2000_downstream.fasta |   63 \u001b[32m+\u001b[m\n",
      " ...d_+_UTR_+_2000_upstream_+_2000_downstream.fasta |   97 \u001b[32m+\u001b[m\n",
      " ...d_+_UTR_+_2000_upstream_+_2000_downstream.fasta |   58 \u001b[32m+\u001b[m\n",
      " ...d_+_UTR_+_2000_upstream_+_2000_downstream.fasta |   69 \u001b[32m+\u001b[m\n",
      " ...d_+_UTR_+_2000_upstream_+_1543_downstream.fasta |  125 \u001b[32m+\u001b[m\n",
      " ...d_+_UTR_+_2000_upstream_+_2000_downstream.fasta |  100 \u001b[32m+\u001b[m\n",
      " .../K01G5.9.1unspliced_+_UTR_+_2000_upstream.fasta |   73 \u001b[32m+\u001b[m\n",
      " ...d_+_UTR_+_2000_upstream_+_2000_downstream.fasta |  120 \u001b[32m+\u001b[m\n",
      " ...d_+_UTR_+_2000_upstream_+_2000_downstream.fasta |   77 \u001b[32m+\u001b[m\n",
      " ...d_+_UTR_+_2000_upstream_+_2000_downstream.fasta |   66 \u001b[32m+\u001b[m\n",
      " ...d_+_UTR_+_2000_upstream_+_2000_downstream.fasta |   70 \u001b[32m+\u001b[m\n",
      " .../R11G10.1aunspliced_+_UTR_+_2000_upstream.fasta |  188 \u001b[32m+\u001b[m\n",
      " .../T01G9.5aunspliced_+_UTR_+_2000_upstream.fasta  |   52 \u001b[32m+\u001b[m\n",
      " ...d_+_UTR_+_2000_upstream_+_2000_downstream.fasta |   71 \u001b[32m+\u001b[m\n",
      " ...d_+_UTR_+_2000_upstream_+_2000_downstream.fasta |   95 \u001b[32m+\u001b[m\n",
      " .../T02C5.5bunspliced_+_UTR_+_2000_upstream.fasta  |  343 \u001b[32m++\u001b[m\n",
      " ...T07C4.10unspliced_+_UTR_+_2000_downstream.fasta |   85 \u001b[32m+\u001b[m\n",
      " ...d_+_UTR_+_2000_upstream_+_2000_downstream.fasta |   61 \u001b[32m+\u001b[m\n",
      " ...d_+_UTR_+_2000_upstream_+_2000_downstream.fasta |   68 \u001b[32m+\u001b[m\n",
      " ...12E12.4b.1unspliced_+_UTR_+_2000_upstream.fasta |   69 \u001b[32m+\u001b[m\n",
      " ...d_+_UTR_+_2000_upstream_+_2000_downstream.fasta |   77 \u001b[32m+\u001b[m\n",
      " ...d_+_UTR_+_2000_upstream_+_2000_downstream.fasta |   78 \u001b[32m+\u001b[m\n",
      " ...d_+_UTR_+_2000_upstream_+_2000_downstream.fasta |  100 \u001b[32m+\u001b[m\n",
      " ...d_+_UTR_+_2000_upstream_+_1006_downstream.fasta |   56 \u001b[32m+\u001b[m\n",
      " ...ed_+_UTR_+_2000_upstream_+_911_downstream.fasta |   94 \u001b[32m+\u001b[m\n",
      " ...d_+_UTR_+_2000_upstream_+_2000_downstream.fasta |  177 \u001b[32m+\u001b[m\n",
      " ...d_+_UTR_+_2000_upstream_+_2000_downstream.fasta |  142 \u001b[32m+\u001b[m\n",
      " ...d_+_UTR_+_2000_upstream_+_2000_downstream.fasta |  100 \u001b[32m+\u001b[m\n",
      " ...d_+_UTR_+_2000_upstream_+_2000_downstream.fasta |  156 \u001b[32m+\u001b[m\n",
      " ...d_+_UTR_+_2000_upstream_+_2000_downstream.fasta |  137 \u001b[32m+\u001b[m\n",
      " ...d_+_UTR_+_2000_upstream_+_2000_downstream.fasta |   63 \u001b[32m+\u001b[m\n",
      " ...d_+_UTR_+_2000_upstream_+_2000_downstream.fasta |  155 \u001b[32m+\u001b[m\n",
      " ...d_+_UTR_+_2000_upstream_+_2000_downstream.fasta |  189 \u001b[32m+\u001b[m\n",
      " ...d_+_UTR_+_2000_upstream_+_2000_downstream.fasta |   61 \u001b[32m+\u001b[m\n",
      " ...d_+_UTR_+_2000_upstream_+_2000_downstream.fasta |   75 \u001b[32m+\u001b[m\n",
      " ...d_+_UTR_+_2000_upstream_+_2000_downstream.fasta |  117 \u001b[32m+\u001b[m\n",
      " ...d_+_UTR_+_2000_upstream_+_2000_downstream.fasta |  119 \u001b[32m+\u001b[m\n",
      " ...d_+_UTR_+_2000_upstream_+_2000_downstream.fasta |   92 \u001b[32m+\u001b[m\n",
      " data/sequences/all.fasta                           | 6057 \u001b[32m++++++++++++++++++++\u001b[m\n",
      " results/cleaned_c_elegans.csv                      |    2 \u001b[32m+\u001b[m\u001b[31m-\u001b[m\n",
      " results/cleaned_c_elegans_30mers.csv               |   74 \u001b[32m+\u001b[m\n",
      " src/first_pass.py                                  |   22 \u001b[32m+\u001b[m\u001b[31m-\u001b[m\n",
      " 71 files changed, 12278 insertions(+), 9 deletions(-)\n",
      " create mode 100644 data/C_elegans_CRISPR_sgRNA_Database_Responses_Anon_30mers.csv\n",
      " create mode 100644 data/sequences/C03G5.2unspliced_+_UTR_+_2000_upstream_+_2000_downstream.fasta\n",
      " create mode 100644 data/sequences/C03G5.8unspliced_+_UTR_+_2000_upstream_+_2000_downstream.fasta\n",
      " create mode 100644 data/sequences/C08F8.7unspliced_+_UTR_+_2000_upstream_+_2000_downstream.fasta\n",
      " create mode 100644 data/sequences/C16A11.10unspliced_+_UTR_+_2000_upstream_+_2000_downstream.fasta\n",
      " create mode 100644 data/sequences/C18F10.6unspliced_+_UTR_+_1072_upstream_+_2000_downstream.fasta\n",
      " create mode 100644 data/sequences/C25A1.4.1unspliced_+_UTR_+_2000_upstream_+_2000_downstream.fasta\n",
      " create mode 100644 data/sequences/C25A6.1unspliced_+_UTR_+_939_upstream_+_78_downstream.fasta\n",
      " create mode 100644 data/sequences/C25E10.12unspliced_+_UTR_+_897_upstream_+_2000_downstream.fasta\n",
      " create mode 100644 data/sequences/C32E8.11unspliced_+_UTR_+_2000_upstream.fasta\n",
      " create mode 100644 data/sequences/C34D4.2unspliced_+_UTR_+_2000_upstream_+_2000_downstream.fasta\n",
      " create mode 100644 data/sequences/C36H8.3unspliced_+_UTR_+_1934_upstream_+_2000_downstream.fasta\n",
      " create mode 100644 data/sequences/C37A5.9unspliced_+_UTR_+_751_upstream_+_2000_downstream.fasta\n",
      " create mode 100644 data/sequences/C45G3.1unspliced_+_UTR_+_2000_upstream_+_2000_downstream.fasta\n",
      " create mode 100644 data/sequences/C50B8.1unspliced_+_UTR_+_886_upstream_+_2000_downstream.fasta\n",
      " create mode 100644 data/sequences/C52B11.5unspliced_+_UTR_+_2000_upstream(1).fasta\n",
      " create mode 100644 data/sequences/C52B11.5unspliced_+_UTR_+_2000_upstream.fasta\n",
      " create mode 100644 data/sequences/EEED8.12unspliced_+_UTR_+_2000_upstream_+_2000_downstream.fasta\n",
      " create mode 100644 data/sequences/EEED8.4unspliced_+_UTR_+_2000_upstream_+_2000_downstream.fasta\n",
      " create mode 100644 data/sequences/EEED8.7bunspliced_+_UTR_+_2000_upstream_+_2000_downstream.fasta\n",
      " create mode 100644 data/sequences/F01D4.9unspliced_+_UTR_+_2000_upstream_+_2000_downstream(1).fasta\n",
      " create mode 100644 data/sequences/F11A5.3unspliced_+_UTR_+_2000_upstream_+_2000_downstream.fasta\n",
      " create mode 100644 data/sequences/F16F9.2unspliced_+_UTR_+_2000_upstream_+_2000_downstream.fasta\n",
      " create mode 100644 data/sequences/F18F11.5unspliced_+_UTR_+_2000_downstream.fasta\n",
      " create mode 100644 data/sequences/F19H8.3unspliced_+_UTR_+_2000_upstream_+_2000_downstream.fasta\n",
      " create mode 100644 data/sequences/F21A3.7aunspliced_+_UTR_+_2000_upstream.fasta\n",
      " create mode 100644 data/sequences/F22B5.2aunspliced_+_UTR_+_329_upstream_+_2000_downstream.fasta\n",
      " create mode 100644 data/sequences/F30B5.1unspliced_+_UTR_+_2000_upstream_+_2000_downstream.fasta\n",
      " create mode 100644 data/sequences/F31F6.4b.2unspliced_+_UTR_+_2000_upstream_+_2000_downstream.fasta\n",
      " create mode 100644 data/sequences/F42A10.4aunspliced_+_UTR_+_2000_upstream_+_2000_downstream.fasta\n",
      " create mode 100644 data/sequences/F45H11.2unspliced_+_UTR_+_2000_upstream_+_2000_downstream.fasta\n",
      " create mode 100644 data/sequences/F46C8.6unspliced_+_UTR_+_2000_upstream_+_2000_downstream.fasta\n",
      " create mode 100644 data/sequences/F54F2.1unspliced_+_UTR_+_2000_upstream_+_1543_downstream.fasta\n",
      " create mode 100644 data/sequences/F58G11.2aunspliced_+_UTR_+_2000_upstream_+_2000_downstream.fasta\n",
      " create mode 100644 data/sequences/K01G5.9.1unspliced_+_UTR_+_2000_upstream.fasta\n",
      " create mode 100644 data/sequences/K04G2.8bunspliced_+_UTR_+_2000_upstream_+_2000_downstream.fasta\n",
      " create mode 100644 data/sequences/K07F5.4unspliced_+_UTR_+_2000_upstream_+_2000_downstream.fasta\n",
      " create mode 100644 data/sequences/R03A10.2unspliced_+_UTR_+_2000_upstream_+_2000_downstream.fasta\n",
      " create mode 100644 data/sequences/R08A2.2unspliced_+_UTR_+_2000_upstream_+_2000_downstream.fasta\n",
      " create mode 100644 data/sequences/R11G10.1aunspliced_+_UTR_+_2000_upstream.fasta\n",
      " create mode 100644 data/sequences/T01G9.5aunspliced_+_UTR_+_2000_upstream.fasta\n",
      " create mode 100644 data/sequences/T01H10.3unspliced_+_UTR_+_2000_upstream_+_2000_downstream.fasta\n",
      " create mode 100644 data/sequences/T01H10.6unspliced_+_UTR_+_2000_upstream_+_2000_downstream.fasta\n",
      " create mode 100644 data/sequences/T02C5.5bunspliced_+_UTR_+_2000_upstream.fasta\n",
      " create mode 100644 data/sequences/T07C4.10unspliced_+_UTR_+_2000_downstream.fasta\n",
      " create mode 100644 data/sequences/T08B6.5unspliced_+_UTR_+_2000_upstream_+_2000_downstream.fasta\n",
      " create mode 100644 data/sequences/T12A2.9unspliced_+_UTR_+_2000_upstream_+_2000_downstream.fasta\n",
      " create mode 100644 data/sequences/T12E12.4b.1unspliced_+_UTR_+_2000_upstream.fasta\n",
      " create mode 100644 data/sequences/T14B4.7aunspliced_+_UTR_+_2000_upstream_+_2000_downstream.fasta\n",
      " create mode 100644 data/sequences/T22C1.1.1unspliced_+_UTR_+_2000_upstream_+_2000_downstream.fasta\n",
      " create mode 100644 data/sequences/T26C12.3aunspliced_+_UTR_+_2000_upstream_+_2000_downstream.fasta\n",
      " create mode 100644 data/sequences/VW02B12L.3.1unspliced_+_UTR_+_2000_upstream_+_1006_downstream.fasta\n",
      " create mode 100644 data/sequences/W04C9.5unspliced_+_UTR_+_2000_upstream_+_911_downstream.fasta\n",
      " create mode 100644 data/sequences/W10G11.16bunspliced_+_UTR_+_2000_upstream_+_2000_downstream.fasta\n",
      " create mode 100644 data/sequences/Y108G3AL.1a.2unspliced_+_UTR_+_2000_upstream_+_2000_downstream.fasta\n",
      " create mode 100644 data/sequences/Y39A3CR.7unspliced_+_UTR_+_2000_upstream_+_2000_downstream.fasta\n",
      " create mode 100644 data/sequences/Y42A5A.4aunspliced_+_UTR_+_2000_upstream_+_2000_downstream.fasta\n",
      " create mode 100644 data/sequences/Y49E10.19unspliced_+_UTR_+_2000_upstream_+_2000_downstream.fasta\n",
      " create mode 100644 data/sequences/Y54G2A.23unspliced_+_UTR_+_2000_upstream_+_2000_downstream.fasta\n",
      " create mode 100644 data/sequences/Y67D8C.3cunspliced_+_UTR_+_2000_upstream_+_2000_downstream.fasta\n",
      " create mode 100644 data/sequences/Y73B6BL.26bunspliced_+_UTR_+_2000_upstream_+_2000_downstream.fasta\n",
      " create mode 100644 data/sequences/Y79H2A.4unspliced_+_UTR_+_2000_upstream_+_2000_downstream.fasta\n",
      " create mode 100644 data/sequences/ZC477.5unspliced_+_UTR_+_2000_upstream_+_2000_downstream.fasta\n",
      " create mode 100644 data/sequences/ZK1058.2unspliced_+_UTR_+_2000_upstream_+_2000_downstream.fasta\n",
      " create mode 100644 data/sequences/ZK520.4aunspliced_+_UTR_+_2000_upstream_+_2000_downstream.fasta\n",
      " create mode 100644 data/sequences/ZK858.4aunspliced_+_UTR_+_2000_upstream_+_2000_downstream.fasta\n",
      " create mode 100644 data/sequences/all.fasta\n",
      " create mode 100644 results/cleaned_c_elegans_30mers.csv\n"
     ]
    }
   ],
   "source": []
  }
 ],
 "metadata": {
  "kernelspec": {
   "display_name": "Python 2",
   "language": "python",
   "name": "python2"
  },
  "language_info": {
   "codemirror_mode": {
    "name": "ipython",
    "version": 2
   },
   "file_extension": ".py",
   "mimetype": "text/x-python",
   "name": "python",
   "nbconvert_exporter": "python",
   "pygments_lexer": "ipython2",
   "version": "2.7.13"
  }
 },
 "nbformat": 4,
 "nbformat_minor": 2
}
