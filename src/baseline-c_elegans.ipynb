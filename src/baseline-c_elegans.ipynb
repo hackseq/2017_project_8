{
 "cells": [
  {
   "cell_type": "code",
   "execution_count": 1,
   "metadata": {},
   "outputs": [
    {
     "name": "stderr",
     "output_type": "stream",
     "text": [
      "/home/deadhand/anaconda3/envs/hackseq_2017/lib/python2.7/site-packages/sklearn/cross_validation.py:41: DeprecationWarning: This module was deprecated in version 0.18 in favor of the model_selection module into which all the refactored classes and functions are moved. Also note that the interface of the new CV iterators are different from that of this module. This module will be removed in 0.20.\n",
      "  \"This module will be removed in 0.20.\", DeprecationWarning)\n"
     ]
    }
   ],
   "source": [
    "from sklearn.ensemble import GradientBoostingRegressor\n",
    "from sklearn import cross_validation\n",
    "from sklearn.preprocessing import LabelBinarizer\n",
    "import sklearn\n",
    "import pandas as pd\n",
    "import numpy as np\n",
    "import xgboost as xg\n",
    "from sklearn.ensemble import ExtraTreesRegressor, RandomForestRegressor\n",
    "from sklearn.pipeline import make_pipeline, make_union\n",
    "from sklearn.preprocessing import Normalizer\n",
    "from tpot.builtins import StackingEstimator\n",
    "\n",
    "%matplotlib inline"
   ]
  },
  {
   "cell_type": "code",
   "execution_count": 2,
   "metadata": {},
   "outputs": [
    {
     "name": "stdout",
     "output_type": "stream",
     "text": [
      "target\n"
     ]
    }
   ],
   "source": [
    "dummy_df = pd.read_csv(\"../results/dummied_c_elegans_30mers.csv\")\n",
    "print(dummy_df.columns.tolist()[-1])\n",
    "X, y = dummy_df.iloc[:,:-1].values, dummy_df.iloc[:,-1].values"
   ]
  },
  {
   "cell_type": "code",
   "execution_count": 7,
   "metadata": {},
   "outputs": [
    {
     "name": "stderr",
     "output_type": "stream",
     "text": [
      "/home/deadhand/anaconda3/envs/hackseq_2017/lib/python2.7/site-packages/sklearn/metrics/scorer.py:100: DeprecationWarning: Scoring method mean_squared_error was renamed to neg_mean_squared_error in version 0.18 and will be removed in 0.20.\n",
      "  sample_weight=sample_weight)\n",
      "/home/deadhand/anaconda3/envs/hackseq_2017/lib/python2.7/site-packages/sklearn/metrics/scorer.py:100: DeprecationWarning: Scoring method mean_squared_error was renamed to neg_mean_squared_error in version 0.18 and will be removed in 0.20.\n",
      "  sample_weight=sample_weight)\n",
      "/home/deadhand/anaconda3/envs/hackseq_2017/lib/python2.7/site-packages/sklearn/metrics/scorer.py:100: DeprecationWarning: Scoring method mean_squared_error was renamed to neg_mean_squared_error in version 0.18 and will be removed in 0.20.\n",
      "  sample_weight=sample_weight)\n",
      "/home/deadhand/anaconda3/envs/hackseq_2017/lib/python2.7/site-packages/sklearn/metrics/scorer.py:100: DeprecationWarning: Scoring method mean_squared_error was renamed to neg_mean_squared_error in version 0.18 and will be removed in 0.20.\n",
      "  sample_weight=sample_weight)\n",
      "/home/deadhand/anaconda3/envs/hackseq_2017/lib/python2.7/site-packages/sklearn/metrics/scorer.py:100: DeprecationWarning: Scoring method mean_squared_error was renamed to neg_mean_squared_error in version 0.18 and will be removed in 0.20.\n",
      "  sample_weight=sample_weight)\n"
     ]
    },
    {
     "data": {
      "text/plain": [
       "0.031096936539194216"
      ]
     },
     "execution_count": 7,
     "metadata": {},
     "output_type": "execute_result"
    }
   ],
   "source": [
    "model = GradientBoostingRegressor()\n",
    "base_cross_val = cross_validation.cross_val_score(estimator=model, X=X, y=y, cv = 5, scoring=\"mean_squared_error\")\n",
    "(sum(abs(base_cross_val))/len(base_cross_val))"
   ]
  },
  {
   "cell_type": "code",
   "execution_count": 8,
   "metadata": {},
   "outputs": [
    {
     "name": "stderr",
     "output_type": "stream",
     "text": [
      "/home/deadhand/anaconda3/envs/hackseq_2017/lib/python2.7/site-packages/sklearn/metrics/scorer.py:100: DeprecationWarning: Scoring method mean_squared_error was renamed to neg_mean_squared_error in version 0.18 and will be removed in 0.20.\n",
      "  sample_weight=sample_weight)\n",
      "/home/deadhand/anaconda3/envs/hackseq_2017/lib/python2.7/site-packages/sklearn/metrics/scorer.py:100: DeprecationWarning: Scoring method mean_squared_error was renamed to neg_mean_squared_error in version 0.18 and will be removed in 0.20.\n",
      "  sample_weight=sample_weight)\n",
      "/home/deadhand/anaconda3/envs/hackseq_2017/lib/python2.7/site-packages/sklearn/metrics/scorer.py:100: DeprecationWarning: Scoring method mean_squared_error was renamed to neg_mean_squared_error in version 0.18 and will be removed in 0.20.\n",
      "  sample_weight=sample_weight)\n",
      "/home/deadhand/anaconda3/envs/hackseq_2017/lib/python2.7/site-packages/sklearn/metrics/scorer.py:100: DeprecationWarning: Scoring method mean_squared_error was renamed to neg_mean_squared_error in version 0.18 and will be removed in 0.20.\n",
      "  sample_weight=sample_weight)\n",
      "/home/deadhand/anaconda3/envs/hackseq_2017/lib/python2.7/site-packages/sklearn/metrics/scorer.py:100: DeprecationWarning: Scoring method mean_squared_error was renamed to neg_mean_squared_error in version 0.18 and will be removed in 0.20.\n",
      "  sample_weight=sample_weight)\n"
     ]
    },
    {
     "data": {
      "text/plain": [
       "0.03236412042123666"
      ]
     },
     "execution_count": 8,
     "metadata": {},
     "output_type": "execute_result"
    }
   ],
   "source": [
    "model = xg.XGBRegressor(n_estimators=1000)\n",
    "xg1000_cross_val = cross_validation.cross_val_score(estimator=model, X=X, y=y, cv = 5, scoring=\"mean_squared_error\")\n",
    "(sum(abs(xg1000_cross_val))/len(xg1000_cross_val))"
   ]
  },
  {
   "cell_type": "code",
   "execution_count": 6,
   "metadata": {},
   "outputs": [
    {
     "name": "stderr",
     "output_type": "stream",
     "text": [
      "/home/deadhand/anaconda3/envs/hackseq_2017/lib/python2.7/site-packages/sklearn/metrics/scorer.py:100: DeprecationWarning: Scoring method mean_squared_error was renamed to neg_mean_squared_error in version 0.18 and will be removed in 0.20.\n",
      "  sample_weight=sample_weight)\n",
      "/home/deadhand/anaconda3/envs/hackseq_2017/lib/python2.7/site-packages/sklearn/metrics/scorer.py:100: DeprecationWarning: Scoring method mean_squared_error was renamed to neg_mean_squared_error in version 0.18 and will be removed in 0.20.\n",
      "  sample_weight=sample_weight)\n",
      "/home/deadhand/anaconda3/envs/hackseq_2017/lib/python2.7/site-packages/sklearn/metrics/scorer.py:100: DeprecationWarning: Scoring method mean_squared_error was renamed to neg_mean_squared_error in version 0.18 and will be removed in 0.20.\n",
      "  sample_weight=sample_weight)\n",
      "/home/deadhand/anaconda3/envs/hackseq_2017/lib/python2.7/site-packages/sklearn/metrics/scorer.py:100: DeprecationWarning: Scoring method mean_squared_error was renamed to neg_mean_squared_error in version 0.18 and will be removed in 0.20.\n",
      "  sample_weight=sample_weight)\n",
      "/home/deadhand/anaconda3/envs/hackseq_2017/lib/python2.7/site-packages/sklearn/metrics/scorer.py:100: DeprecationWarning: Scoring method mean_squared_error was renamed to neg_mean_squared_error in version 0.18 and will be removed in 0.20.\n",
      "  sample_weight=sample_weight)\n"
     ]
    },
    {
     "data": {
      "text/plain": [
       "0.029705100239749833"
      ]
     },
     "execution_count": 6,
     "metadata": {},
     "output_type": "execute_result"
    }
   ],
   "source": [
    "model = make_pipeline(\n",
    "    Normalizer(norm=\"max\"),\n",
    "    StackingEstimator(estimator=ExtraTreesRegressor(bootstrap=False, max_features=0.95, min_samples_leaf=4, min_samples_split=9, n_estimators=100)),\n",
    "    RandomForestRegressor(bootstrap=True, max_features=0.35, min_samples_leaf=1, min_samples_split=8, n_estimators=100)\n",
    ")\n",
    "pipeline_cross_val = cross_validation.cross_val_score(estimator=model, X=X, y=y, cv = 5, scoring=\"mean_squared_error\")\n",
    "(sum(abs(pipeline_cross_val))/len(pipeline_cross_val))"
   ]
  },
  {
   "cell_type": "code",
   "execution_count": 71,
   "metadata": {},
   "outputs": [
    {
     "data": {
      "text/plain": [
       "2.3380535190836502"
      ]
     },
     "execution_count": 71,
     "metadata": {},
     "output_type": "execute_result"
    }
   ],
   "source": [
    "[base_]"
   ]
  },
  {
   "cell_type": "code",
   "execution_count": 44,
   "metadata": {},
   "outputs": [
    {
     "data": {
      "text/plain": [
       "[149]"
      ]
     },
     "execution_count": 44,
     "metadata": {},
     "output_type": "execute_result"
    }
   ],
   "source": [
    "[i for i,j in enumerate(dummy_df.columns.values) if j == \"lfc\"]"
   ]
  },
  {
   "cell_type": "code",
   "execution_count": 74,
   "metadata": {
    "collapsed": true
   },
   "outputs": [],
   "source": [
    "! git add baseline.ipynb"
   ]
  },
  {
   "cell_type": "code",
   "execution_count": 75,
   "metadata": {},
   "outputs": [
    {
     "name": "stdout",
     "output_type": "stream",
     "text": [
      "remote: Counting objects: 94, done.\u001b[K\n",
      "remote: Compressing objects: 100% (78/78), done.\u001b[K\n",
      "remote: Total 94 (delta 21), reused 89 (delta 16), pack-reused 0\u001b[K\n",
      "Unpacking objects: 100% (94/94), done.\n",
      "From github.com:hackseq/2017_project_8\n",
      "   61019cb..04eb77e  master     -> origin/master\n",
      "Updating 61019cb..04eb77e\n",
      "Fast-forward\n",
      " ...CRISPR_sgRNA_Database_Responses_Anon_30mers.csv |   74 \u001b[32m+\u001b[m\n",
      " .../analysis/hackseq_featurization.py              |    2 \u001b[32m+\u001b[m\u001b[31m-\u001b[m\n",
      " ...d_+_UTR_+_2000_upstream_+_2000_downstream.fasta |   57 \u001b[32m+\u001b[m\n",
      " ...d_+_UTR_+_2000_upstream_+_2000_downstream.fasta |   57 \u001b[32m+\u001b[m\n",
      " ...d_+_UTR_+_2000_upstream_+_2000_downstream.fasta |   63 \u001b[32m+\u001b[m\n",
      " ...d_+_UTR_+_2000_upstream_+_2000_downstream.fasta |   92 \u001b[32m+\u001b[m\n",
      " ...d_+_UTR_+_1072_upstream_+_2000_downstream.fasta |   56 \u001b[32m+\u001b[m\n",
      " ...d_+_UTR_+_2000_upstream_+_2000_downstream.fasta |   89 \u001b[32m+\u001b[m\n",
      " ...iced_+_UTR_+_939_upstream_+_78_downstream.fasta |   34 \u001b[32m+\u001b[m\n",
      " ...ed_+_UTR_+_897_upstream_+_2000_downstream.fasta |   62 \u001b[32m+\u001b[m\n",
      " .../C32E8.11unspliced_+_UTR_+_2000_upstream.fasta  |  143 \u001b[32m+\u001b[m\n",
      " ...d_+_UTR_+_2000_upstream_+_2000_downstream.fasta |   68 \u001b[32m+\u001b[m\n",
      " ...d_+_UTR_+_1934_upstream_+_2000_downstream.fasta |   90 \u001b[32m+\u001b[m\n",
      " ...ed_+_UTR_+_751_upstream_+_2000_downstream.fasta |  117 \u001b[32m+\u001b[m\n",
      " ...d_+_UTR_+_2000_upstream_+_2000_downstream.fasta |  108 \u001b[32m+\u001b[m\n",
      " ...ed_+_UTR_+_886_upstream_+_2000_downstream.fasta |   51 \u001b[32m+\u001b[m\n",
      " ...52B11.5unspliced_+_UTR_+_2000_upstream(1).fasta |   59 \u001b[32m+\u001b[m\n",
      " .../C52B11.5unspliced_+_UTR_+_2000_upstream.fasta  |   59 \u001b[32m+\u001b[m\n",
      " ...d_+_UTR_+_2000_upstream_+_2000_downstream.fasta |   61 \u001b[32m+\u001b[m\n",
      " ...d_+_UTR_+_2000_upstream_+_2000_downstream.fasta |   61 \u001b[32m+\u001b[m\n",
      " ...d_+_UTR_+_2000_upstream_+_2000_downstream.fasta |   69 \u001b[32m+\u001b[m\n",
      " ..._UTR_+_2000_upstream_+_2000_downstream(1).fasta |  119 \u001b[32m+\u001b[m\n",
      " ...d_+_UTR_+_2000_upstream_+_2000_downstream.fasta |   59 \u001b[32m+\u001b[m\n",
      " ...d_+_UTR_+_2000_upstream_+_2000_downstream.fasta |  117 \u001b[32m+\u001b[m\n",
      " ...F18F11.5unspliced_+_UTR_+_2000_downstream.fasta |   96 \u001b[32m+\u001b[m\n",
      " ...d_+_UTR_+_2000_upstream_+_2000_downstream.fasta |   75 \u001b[32m+\u001b[m\n",
      " .../F21A3.7aunspliced_+_UTR_+_2000_upstream.fasta  |  142 \u001b[32m+\u001b[m\n",
      " ...ed_+_UTR_+_329_upstream_+_2000_downstream.fasta |   49 \u001b[32m+\u001b[m\n",
      " ...d_+_UTR_+_2000_upstream_+_2000_downstream.fasta |   65 \u001b[32m+\u001b[m\n",
      " ...d_+_UTR_+_2000_upstream_+_2000_downstream.fasta |   63 \u001b[32m+\u001b[m\n",
      " ...d_+_UTR_+_2000_upstream_+_2000_downstream.fasta |   97 \u001b[32m+\u001b[m\n",
      " ...d_+_UTR_+_2000_upstream_+_2000_downstream.fasta |   58 \u001b[32m+\u001b[m\n",
      " ...d_+_UTR_+_2000_upstream_+_2000_downstream.fasta |   69 \u001b[32m+\u001b[m\n",
      " ...d_+_UTR_+_2000_upstream_+_1543_downstream.fasta |  125 \u001b[32m+\u001b[m\n",
      " ...d_+_UTR_+_2000_upstream_+_2000_downstream.fasta |  100 \u001b[32m+\u001b[m\n",
      " .../K01G5.9.1unspliced_+_UTR_+_2000_upstream.fasta |   73 \u001b[32m+\u001b[m\n",
      " ...d_+_UTR_+_2000_upstream_+_2000_downstream.fasta |  120 \u001b[32m+\u001b[m\n",
      " ...d_+_UTR_+_2000_upstream_+_2000_downstream.fasta |   77 \u001b[32m+\u001b[m\n",
      " ...d_+_UTR_+_2000_upstream_+_2000_downstream.fasta |   66 \u001b[32m+\u001b[m\n",
      " ...d_+_UTR_+_2000_upstream_+_2000_downstream.fasta |   70 \u001b[32m+\u001b[m\n",
      " .../R11G10.1aunspliced_+_UTR_+_2000_upstream.fasta |  188 \u001b[32m+\u001b[m\n",
      " .../T01G9.5aunspliced_+_UTR_+_2000_upstream.fasta  |   52 \u001b[32m+\u001b[m\n",
      " ...d_+_UTR_+_2000_upstream_+_2000_downstream.fasta |   71 \u001b[32m+\u001b[m\n",
      " ...d_+_UTR_+_2000_upstream_+_2000_downstream.fasta |   95 \u001b[32m+\u001b[m\n",
      " .../T02C5.5bunspliced_+_UTR_+_2000_upstream.fasta  |  343 \u001b[32m++\u001b[m\n",
      " ...T07C4.10unspliced_+_UTR_+_2000_downstream.fasta |   85 \u001b[32m+\u001b[m\n",
      " ...d_+_UTR_+_2000_upstream_+_2000_downstream.fasta |   61 \u001b[32m+\u001b[m\n",
      " ...d_+_UTR_+_2000_upstream_+_2000_downstream.fasta |   68 \u001b[32m+\u001b[m\n",
      " ...12E12.4b.1unspliced_+_UTR_+_2000_upstream.fasta |   69 \u001b[32m+\u001b[m\n",
      " ...d_+_UTR_+_2000_upstream_+_2000_downstream.fasta |   77 \u001b[32m+\u001b[m\n",
      " ...d_+_UTR_+_2000_upstream_+_2000_downstream.fasta |   78 \u001b[32m+\u001b[m\n",
      " ...d_+_UTR_+_2000_upstream_+_2000_downstream.fasta |  100 \u001b[32m+\u001b[m\n",
      " ...d_+_UTR_+_2000_upstream_+_1006_downstream.fasta |   56 \u001b[32m+\u001b[m\n",
      " ...ed_+_UTR_+_2000_upstream_+_911_downstream.fasta |   94 \u001b[32m+\u001b[m\n",
      " ...d_+_UTR_+_2000_upstream_+_2000_downstream.fasta |  177 \u001b[32m+\u001b[m\n",
      " ...d_+_UTR_+_2000_upstream_+_2000_downstream.fasta |  142 \u001b[32m+\u001b[m\n",
      " ...d_+_UTR_+_2000_upstream_+_2000_downstream.fasta |  100 \u001b[32m+\u001b[m\n",
      " ...d_+_UTR_+_2000_upstream_+_2000_downstream.fasta |  156 \u001b[32m+\u001b[m\n",
      " ...d_+_UTR_+_2000_upstream_+_2000_downstream.fasta |  137 \u001b[32m+\u001b[m\n",
      " ...d_+_UTR_+_2000_upstream_+_2000_downstream.fasta |   63 \u001b[32m+\u001b[m\n",
      " ...d_+_UTR_+_2000_upstream_+_2000_downstream.fasta |  155 \u001b[32m+\u001b[m\n",
      " ...d_+_UTR_+_2000_upstream_+_2000_downstream.fasta |  189 \u001b[32m+\u001b[m\n",
      " ...d_+_UTR_+_2000_upstream_+_2000_downstream.fasta |   61 \u001b[32m+\u001b[m\n",
      " ...d_+_UTR_+_2000_upstream_+_2000_downstream.fasta |   75 \u001b[32m+\u001b[m\n",
      " ...d_+_UTR_+_2000_upstream_+_2000_downstream.fasta |  117 \u001b[32m+\u001b[m\n",
      " ...d_+_UTR_+_2000_upstream_+_2000_downstream.fasta |  119 \u001b[32m+\u001b[m\n",
      " ...d_+_UTR_+_2000_upstream_+_2000_downstream.fasta |   92 \u001b[32m+\u001b[m\n",
      " data/sequences/all.fasta                           | 6057 \u001b[32m++++++++++++++++++++\u001b[m\n",
      " results/cleaned_c_elegans.csv                      |    2 \u001b[32m+\u001b[m\u001b[31m-\u001b[m\n",
      " results/cleaned_c_elegans_30mers.csv               |   74 \u001b[32m+\u001b[m\n",
      " src/first_pass.py                                  |   22 \u001b[32m+\u001b[m\u001b[31m-\u001b[m\n",
      " 71 files changed, 12278 insertions(+), 9 deletions(-)\n",
      " create mode 100644 data/C_elegans_CRISPR_sgRNA_Database_Responses_Anon_30mers.csv\n",
      " create mode 100644 data/sequences/C03G5.2unspliced_+_UTR_+_2000_upstream_+_2000_downstream.fasta\n",
      " create mode 100644 data/sequences/C03G5.8unspliced_+_UTR_+_2000_upstream_+_2000_downstream.fasta\n",
      " create mode 100644 data/sequences/C08F8.7unspliced_+_UTR_+_2000_upstream_+_2000_downstream.fasta\n",
      " create mode 100644 data/sequences/C16A11.10unspliced_+_UTR_+_2000_upstream_+_2000_downstream.fasta\n",
      " create mode 100644 data/sequences/C18F10.6unspliced_+_UTR_+_1072_upstream_+_2000_downstream.fasta\n",
      " create mode 100644 data/sequences/C25A1.4.1unspliced_+_UTR_+_2000_upstream_+_2000_downstream.fasta\n",
      " create mode 100644 data/sequences/C25A6.1unspliced_+_UTR_+_939_upstream_+_78_downstream.fasta\n",
      " create mode 100644 data/sequences/C25E10.12unspliced_+_UTR_+_897_upstream_+_2000_downstream.fasta\n",
      " create mode 100644 data/sequences/C32E8.11unspliced_+_UTR_+_2000_upstream.fasta\n",
      " create mode 100644 data/sequences/C34D4.2unspliced_+_UTR_+_2000_upstream_+_2000_downstream.fasta\n",
      " create mode 100644 data/sequences/C36H8.3unspliced_+_UTR_+_1934_upstream_+_2000_downstream.fasta\n",
      " create mode 100644 data/sequences/C37A5.9unspliced_+_UTR_+_751_upstream_+_2000_downstream.fasta\n",
      " create mode 100644 data/sequences/C45G3.1unspliced_+_UTR_+_2000_upstream_+_2000_downstream.fasta\n",
      " create mode 100644 data/sequences/C50B8.1unspliced_+_UTR_+_886_upstream_+_2000_downstream.fasta\n",
      " create mode 100644 data/sequences/C52B11.5unspliced_+_UTR_+_2000_upstream(1).fasta\n",
      " create mode 100644 data/sequences/C52B11.5unspliced_+_UTR_+_2000_upstream.fasta\n",
      " create mode 100644 data/sequences/EEED8.12unspliced_+_UTR_+_2000_upstream_+_2000_downstream.fasta\n",
      " create mode 100644 data/sequences/EEED8.4unspliced_+_UTR_+_2000_upstream_+_2000_downstream.fasta\n",
      " create mode 100644 data/sequences/EEED8.7bunspliced_+_UTR_+_2000_upstream_+_2000_downstream.fasta\n",
      " create mode 100644 data/sequences/F01D4.9unspliced_+_UTR_+_2000_upstream_+_2000_downstream(1).fasta\n",
      " create mode 100644 data/sequences/F11A5.3unspliced_+_UTR_+_2000_upstream_+_2000_downstream.fasta\n",
      " create mode 100644 data/sequences/F16F9.2unspliced_+_UTR_+_2000_upstream_+_2000_downstream.fasta\n",
      " create mode 100644 data/sequences/F18F11.5unspliced_+_UTR_+_2000_downstream.fasta\n",
      " create mode 100644 data/sequences/F19H8.3unspliced_+_UTR_+_2000_upstream_+_2000_downstream.fasta\n",
      " create mode 100644 data/sequences/F21A3.7aunspliced_+_UTR_+_2000_upstream.fasta\n",
      " create mode 100644 data/sequences/F22B5.2aunspliced_+_UTR_+_329_upstream_+_2000_downstream.fasta\n",
      " create mode 100644 data/sequences/F30B5.1unspliced_+_UTR_+_2000_upstream_+_2000_downstream.fasta\n",
      " create mode 100644 data/sequences/F31F6.4b.2unspliced_+_UTR_+_2000_upstream_+_2000_downstream.fasta\n",
      " create mode 100644 data/sequences/F42A10.4aunspliced_+_UTR_+_2000_upstream_+_2000_downstream.fasta\n",
      " create mode 100644 data/sequences/F45H11.2unspliced_+_UTR_+_2000_upstream_+_2000_downstream.fasta\n",
      " create mode 100644 data/sequences/F46C8.6unspliced_+_UTR_+_2000_upstream_+_2000_downstream.fasta\n",
      " create mode 100644 data/sequences/F54F2.1unspliced_+_UTR_+_2000_upstream_+_1543_downstream.fasta\n",
      " create mode 100644 data/sequences/F58G11.2aunspliced_+_UTR_+_2000_upstream_+_2000_downstream.fasta\n",
      " create mode 100644 data/sequences/K01G5.9.1unspliced_+_UTR_+_2000_upstream.fasta\n",
      " create mode 100644 data/sequences/K04G2.8bunspliced_+_UTR_+_2000_upstream_+_2000_downstream.fasta\n",
      " create mode 100644 data/sequences/K07F5.4unspliced_+_UTR_+_2000_upstream_+_2000_downstream.fasta\n",
      " create mode 100644 data/sequences/R03A10.2unspliced_+_UTR_+_2000_upstream_+_2000_downstream.fasta\n",
      " create mode 100644 data/sequences/R08A2.2unspliced_+_UTR_+_2000_upstream_+_2000_downstream.fasta\n",
      " create mode 100644 data/sequences/R11G10.1aunspliced_+_UTR_+_2000_upstream.fasta\n",
      " create mode 100644 data/sequences/T01G9.5aunspliced_+_UTR_+_2000_upstream.fasta\n",
      " create mode 100644 data/sequences/T01H10.3unspliced_+_UTR_+_2000_upstream_+_2000_downstream.fasta\n",
      " create mode 100644 data/sequences/T01H10.6unspliced_+_UTR_+_2000_upstream_+_2000_downstream.fasta\n",
      " create mode 100644 data/sequences/T02C5.5bunspliced_+_UTR_+_2000_upstream.fasta\n",
      " create mode 100644 data/sequences/T07C4.10unspliced_+_UTR_+_2000_downstream.fasta\n",
      " create mode 100644 data/sequences/T08B6.5unspliced_+_UTR_+_2000_upstream_+_2000_downstream.fasta\n",
      " create mode 100644 data/sequences/T12A2.9unspliced_+_UTR_+_2000_upstream_+_2000_downstream.fasta\n",
      " create mode 100644 data/sequences/T12E12.4b.1unspliced_+_UTR_+_2000_upstream.fasta\n",
      " create mode 100644 data/sequences/T14B4.7aunspliced_+_UTR_+_2000_upstream_+_2000_downstream.fasta\n",
      " create mode 100644 data/sequences/T22C1.1.1unspliced_+_UTR_+_2000_upstream_+_2000_downstream.fasta\n",
      " create mode 100644 data/sequences/T26C12.3aunspliced_+_UTR_+_2000_upstream_+_2000_downstream.fasta\n",
      " create mode 100644 data/sequences/VW02B12L.3.1unspliced_+_UTR_+_2000_upstream_+_1006_downstream.fasta\n",
      " create mode 100644 data/sequences/W04C9.5unspliced_+_UTR_+_2000_upstream_+_911_downstream.fasta\n",
      " create mode 100644 data/sequences/W10G11.16bunspliced_+_UTR_+_2000_upstream_+_2000_downstream.fasta\n",
      " create mode 100644 data/sequences/Y108G3AL.1a.2unspliced_+_UTR_+_2000_upstream_+_2000_downstream.fasta\n",
      " create mode 100644 data/sequences/Y39A3CR.7unspliced_+_UTR_+_2000_upstream_+_2000_downstream.fasta\n",
      " create mode 100644 data/sequences/Y42A5A.4aunspliced_+_UTR_+_2000_upstream_+_2000_downstream.fasta\n",
      " create mode 100644 data/sequences/Y49E10.19unspliced_+_UTR_+_2000_upstream_+_2000_downstream.fasta\n",
      " create mode 100644 data/sequences/Y54G2A.23unspliced_+_UTR_+_2000_upstream_+_2000_downstream.fasta\n",
      " create mode 100644 data/sequences/Y67D8C.3cunspliced_+_UTR_+_2000_upstream_+_2000_downstream.fasta\n",
      " create mode 100644 data/sequences/Y73B6BL.26bunspliced_+_UTR_+_2000_upstream_+_2000_downstream.fasta\n",
      " create mode 100644 data/sequences/Y79H2A.4unspliced_+_UTR_+_2000_upstream_+_2000_downstream.fasta\n",
      " create mode 100644 data/sequences/ZC477.5unspliced_+_UTR_+_2000_upstream_+_2000_downstream.fasta\n",
      " create mode 100644 data/sequences/ZK1058.2unspliced_+_UTR_+_2000_upstream_+_2000_downstream.fasta\n",
      " create mode 100644 data/sequences/ZK520.4aunspliced_+_UTR_+_2000_upstream_+_2000_downstream.fasta\n",
      " create mode 100644 data/sequences/ZK858.4aunspliced_+_UTR_+_2000_upstream_+_2000_downstream.fasta\n",
      " create mode 100644 data/sequences/all.fasta\n",
      " create mode 100644 results/cleaned_c_elegans_30mers.csv\n"
     ]
    }
   ],
   "source": []
  }
 ],
 "metadata": {
  "kernelspec": {
   "display_name": "Python 2",
   "language": "python",
   "name": "python2"
  },
  "language_info": {
   "codemirror_mode": {
    "name": "ipython",
    "version": 2
   },
   "file_extension": ".py",
   "mimetype": "text/x-python",
   "name": "python",
   "nbconvert_exporter": "python",
   "pygments_lexer": "ipython2",
   "version": "2.7.13"
  }
 },
 "nbformat": 4,
 "nbformat_minor": 2
}
