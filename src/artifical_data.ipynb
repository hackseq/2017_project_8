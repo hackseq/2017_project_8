{
 "cells": [
  {
   "cell_type": "code",
   "execution_count": 463,
   "metadata": {
    "collapsed": true
   },
   "outputs": [],
   "source": [
    "import matplotlib.pyplot as plt\n",
    "import seaborn as sns\n",
    "import pandas as pd\n",
    "import numpy as np\n",
    "from random import shuffle"
   ]
  },
  {
   "cell_type": "markdown",
   "metadata": {},
   "source": [
    "## Initial Data Cleaning"
   ]
  },
  {
   "cell_type": "code",
   "execution_count": 189,
   "metadata": {
    "collapsed": true
   },
   "outputs": [],
   "source": [
    "# Ignore some columns while reading the data into pandas dataframe\n",
    "data = pd.read_csv('./C_elegans_CRISPR_sgRNA_Database.csv', usecols=[0,1,3,5,6,8,9,10,11,12])\n",
    "\n",
    "# Case consistency, make all uppercase\n",
    "data['sgRNA'] = data['sgRNA'].str.upper()\n",
    "# convert ; to , for consistency\n",
    "data['sgRNA'] = data['sgRNA'].str.replace(',', ';') \n",
    "data['target_name'] = data['target_name'].str.replace('`','')\n",
    "\n",
    "# For Large data needs to be optimized, very clumsy way of doing this.\n",
    "# Seperating the sgRNA sequences if there is something to seperate\n",
    "first_seq = []\n",
    "second_seq = []\n",
    "for i in data['sgRNA']:\n",
    "    try:\n",
    "        index_value = i.index(';')\n",
    "    except ValueError:\n",
    "        index_value = 0\n",
    "        \n",
    "    if index_value == 0:\n",
    "        first_seq.append(i)\n",
    "        second_seq.append('')\n",
    "    elif index_value != 0:\n",
    "        first_seq.append(i[:index_value])\n",
    "        second_seq.append(i[index_value+2:])\n",
    "\n",
    "# Add sequence columns naming 1 and 2\n",
    "data['sgRNA-1'] = pd.Series(first_seq)\n",
    "data['sgRNA-2'] = pd.Series(second_seq)\n",
    "\n",
    "# drop the sgRNA column\n",
    "data = data.drop('sgRNA', axis=1)\n",
    "# Repositioning the columns \n",
    "data = data[['sgRNA-1', 'sgRNA-2',\"target_name\", \"sgRNA_cut\",\n",
    "             \"num_worms\", \"num_lines\", \"sgRNA_type\", \"promoter_used\", \n",
    "             \"cas9_type\", \"screening_method\",\"repair_mechanism\"]]\n",
    "\n",
    "# Getting rid of paranthesis and contents inside in promoter_used\n",
    "data['promoter_used'] = data['promoter_used'].str.replace(r'\\([^)]*\\)', '').str.strip()\n",
    "\n",
    "# Fill NaNs with 0 and make sure everything stays integer.\n",
    "data = data.fillna(0, downcast=int)\n"
   ]
  },
  {
   "cell_type": "code",
   "execution_count": 398,
   "metadata": {},
   "outputs": [
    {
     "data": {
      "text/html": [
       "<div>\n",
       "<table border=\"1\" class=\"dataframe\">\n",
       "  <thead>\n",
       "    <tr style=\"text-align: right;\">\n",
       "      <th></th>\n",
       "      <th>sgRNA-1</th>\n",
       "      <th>sgRNA-2</th>\n",
       "      <th>target_name</th>\n",
       "      <th>sgRNA_cut</th>\n",
       "      <th>num_worms</th>\n",
       "      <th>num_lines</th>\n",
       "      <th>sgRNA_type</th>\n",
       "      <th>promoter_used</th>\n",
       "      <th>cas9_type</th>\n",
       "      <th>screening_method</th>\n",
       "      <th>repair_mechanism</th>\n",
       "    </tr>\n",
       "  </thead>\n",
       "  <tbody>\n",
       "    <tr>\n",
       "      <th>0</th>\n",
       "      <td>GATTCTCGCGATAACCACGGTGG</td>\n",
       "      <td></td>\n",
       "      <td>rde-12</td>\n",
       "      <td>Yes</td>\n",
       "      <td>160</td>\n",
       "      <td>95</td>\n",
       "      <td>DNA</td>\n",
       "      <td>K09B11.12 U6 promoter</td>\n",
       "      <td>circular plasmid DNA</td>\n",
       "      <td>Positive selectable markers</td>\n",
       "      <td>NHEJ</td>\n",
       "    </tr>\n",
       "    <tr>\n",
       "      <th>1</th>\n",
       "      <td>GGACATTGACACTAAAATCAAGG</td>\n",
       "      <td></td>\n",
       "      <td>dpy-13</td>\n",
       "      <td>Yes</td>\n",
       "      <td>40</td>\n",
       "      <td>1</td>\n",
       "      <td>DNA</td>\n",
       "      <td>K09B11.12 U6 promoter</td>\n",
       "      <td>circular plasmid DNA</td>\n",
       "      <td>PCR and/or DNA sequencing</td>\n",
       "      <td>NHEJ</td>\n",
       "    </tr>\n",
       "    <tr>\n",
       "      <th>2</th>\n",
       "      <td>GTTATGAAGCTGACGGCGGACGG</td>\n",
       "      <td></td>\n",
       "      <td>dpy-13</td>\n",
       "      <td>Yes</td>\n",
       "      <td>35</td>\n",
       "      <td>3</td>\n",
       "      <td>DNA</td>\n",
       "      <td>K09B11.12 U6 promoter</td>\n",
       "      <td>circular plasmid DNA</td>\n",
       "      <td>phenotypic analysis</td>\n",
       "      <td>NHEJ</td>\n",
       "    </tr>\n",
       "    <tr>\n",
       "      <th>3</th>\n",
       "      <td>GGCAATGCTGAGTGACACGGTGG</td>\n",
       "      <td></td>\n",
       "      <td>dpy-7</td>\n",
       "      <td>Yes</td>\n",
       "      <td>300</td>\n",
       "      <td>240</td>\n",
       "      <td>DNA</td>\n",
       "      <td>K09B11.12 U6 promoter</td>\n",
       "      <td>circular plasmid DNA</td>\n",
       "      <td>phenotypic analysis</td>\n",
       "      <td>NHEJ</td>\n",
       "    </tr>\n",
       "    <tr>\n",
       "      <th>4</th>\n",
       "      <td>GCTACCATAGGCACCACGAGCGG</td>\n",
       "      <td></td>\n",
       "      <td>dpy-10</td>\n",
       "      <td>Yes</td>\n",
       "      <td>250</td>\n",
       "      <td>246</td>\n",
       "      <td>DNA</td>\n",
       "      <td>K09B11.12 U6 promoter</td>\n",
       "      <td>circular plasmid DNA</td>\n",
       "      <td>phenotypic analysis</td>\n",
       "      <td>NHEJ</td>\n",
       "    </tr>\n",
       "  </tbody>\n",
       "</table>\n",
       "</div>"
      ],
      "text/plain": [
       "                   sgRNA-1 sgRNA-2 target_name sgRNA_cut  num_worms num_lines  \\\n",
       "0  GATTCTCGCGATAACCACGGTGG              rde-12       Yes        160        95   \n",
       "1  GGACATTGACACTAAAATCAAGG              dpy-13       Yes         40         1   \n",
       "2  GTTATGAAGCTGACGGCGGACGG              dpy-13       Yes         35         3   \n",
       "3  GGCAATGCTGAGTGACACGGTGG               dpy-7       Yes        300       240   \n",
       "4  GCTACCATAGGCACCACGAGCGG              dpy-10       Yes        250       246   \n",
       "\n",
       "  sgRNA_type          promoter_used             cas9_type  \\\n",
       "0        DNA  K09B11.12 U6 promoter  circular plasmid DNA   \n",
       "1        DNA  K09B11.12 U6 promoter  circular plasmid DNA   \n",
       "2        DNA  K09B11.12 U6 promoter  circular plasmid DNA   \n",
       "3        DNA  K09B11.12 U6 promoter  circular plasmid DNA   \n",
       "4        DNA  K09B11.12 U6 promoter  circular plasmid DNA   \n",
       "\n",
       "              screening_method repair_mechanism  \n",
       "0  Positive selectable markers             NHEJ  \n",
       "1    PCR and/or DNA sequencing             NHEJ  \n",
       "2          phenotypic analysis             NHEJ  \n",
       "3          phenotypic analysis             NHEJ  \n",
       "4          phenotypic analysis             NHEJ  "
      ]
     },
     "execution_count": 398,
     "metadata": {},
     "output_type": "execute_result"
    }
   ],
   "source": [
    "data.head()"
   ]
  },
  {
   "cell_type": "markdown",
   "metadata": {},
   "source": [
    "## Creating Features to Use in Simulation\n",
    "\n",
    "---\n",
    "\n",
    "### 1- Lengths of sgRNA sequences"
   ]
  },
  {
   "cell_type": "code",
   "execution_count": 192,
   "metadata": {
    "collapsed": true
   },
   "outputs": [],
   "source": [
    "def normalized_data(lst, size=50000):\n",
    "    # Returns a normalized data using given list\n",
    "    # as an effect of function it also plots the data\n",
    "    \n",
    "    s = np.std(lst)\n",
    "    m = np.mean(lst)\n",
    "    norm_lst = np.random.normal(m, s, size)\n",
    "\n",
    "    # Plot the histogram.\n",
    "    plt.hist(norm_lst, bins=25, normed=True, alpha=0.6, color='g')\n",
    "\n",
    "    # Plot the PDF.\n",
    "    xmin, xmax = plt.xlim()\n",
    "    x = np.linspace(xmin, xmax, 100)\n",
    "    p = norm.pdf(x, m, s)\n",
    "    plt.plot(x, p, 'k', linewidth=2)\n",
    "    plt.title(\"Normal Distribution of : mean = %.2f,  std = %.2f\" % (m, s))\n",
    "    plt.show()\n",
    "    return norm_lst"
   ]
  },
  {
   "cell_type": "code",
   "execution_count": 193,
   "metadata": {},
   "outputs": [
    {
     "data": {
      "image/png": "[encoded data removed]",
      "text/plain": [
       "<matplotlib.figure.Figure at 0x11863a390>"
      ]
     },
     "metadata": {},
     "output_type": "display_data"
    }
   ],
   "source": [
    "# Get all the lengths of sequences\n",
    "lst_len = np.array(list(map(len, list(data['sgRNA-1']))))\n",
    "\n",
    "# Plot the distribution of data\n",
    "sns.distplot(lst_len, kde=False)\n",
    "plt.title('Length distribution of Sequences')\n",
    "plt.xlabel('Length of sgRNA')\n",
    "plt.ylabel('# of occurences')\n",
    "plt.show()"
   ]
  },
  {
   "cell_type": "code",
   "execution_count": 194,
   "metadata": {},
   "outputs": [
    {
     "data": {
      "image/png": "[encoded data removed]",
      "text/plain": [
       "<matplotlib.figure.Figure at 0x1184a9390>"
      ]
     },
     "metadata": {},
     "output_type": "display_data"
    }
   ],
   "source": [
    "norm_len = normalized_data(lst_len, 50000)"
   ]
  },
  {
   "cell_type": "markdown",
   "metadata": {},
   "source": [
    "---\n",
    "\n",
    "### 2- GC contents of Sequences"
   ]
  },
  {
   "cell_type": "code",
   "execution_count": 195,
   "metadata": {},
   "outputs": [
    {
     "data": {
      "image/png": "[encoded data removed]",
      "text/plain": [
       "<matplotlib.figure.Figure at 0x1180923c8>"
      ]
     },
     "metadata": {},
     "output_type": "display_data"
    }
   ],
   "source": [
    "def calc_gc(sequence):\n",
    "    # Calculates the GC content of given sequence\n",
    "    return (sequence.count('G') + sequence.count('C')) / float(len(sequence)) * 100\n",
    "\n",
    "# Get the gc counts of sgRNA sequences\n",
    "gc_counts = list(map(calc_gc, list(data['sgRNA-1'])))\n",
    "\n",
    "sns.distplot(gc_counts)\n",
    "plt.title('GC Count Distribution of Sequences ')\n",
    "plt.xlabel('GC Count Value')\n",
    "plt.ylabel('# of Occurences (normalized)')\n",
    "plt.show()"
   ]
  },
  {
   "cell_type": "code",
   "execution_count": 196,
   "metadata": {},
   "outputs": [
    {
     "data": {
      "image/png": "[encoded data removed]",
      "text/plain": [
       "<matplotlib.figure.Figure at 0x114be94a8>"
      ]
     },
     "metadata": {},
     "output_type": "display_data"
    }
   ],
   "source": [
    "norm_gcs = normalized_data(gc_counts, 50000)"
   ]
  },
  {
   "cell_type": "markdown",
   "metadata": {},
   "source": [
    "---\n",
    "\n",
    "### 3 - Melting Temperatures of Sequences"
   ]
  },
  {
   "cell_type": "code",
   "execution_count": 197,
   "metadata": {},
   "outputs": [
    {
     "data": {
      "image/png": "[encoded data removed]",
      "text/plain": [
       "<matplotlib.figure.Figure at 0x118689518>"
      ]
     },
     "metadata": {},
     "output_type": "display_data"
    }
   ],
   "source": [
    "# Melting Temperature = 64.9 +41*(yG+zC-16.4)/(wA+xT+yG+zC)\n",
    "def melt_temp(sequence):\n",
    "    yG = sequence.count('G')\n",
    "    zC = sequence.count('C')\n",
    "    wA = sequence.count('A')\n",
    "    xT = sequence.count('T')\n",
    "    return (64.9 + (41 * ((yG+zC-16.4)/(wA+xT+yG+zC))))\n",
    "\n",
    "melting_temps = list(map(melt_temp, list(data['sgRNA-1'])))\n",
    "\n",
    "sns.distplot(melting_temps)\n",
    "plt.xlabel('Melting Temperature Values')\n",
    "plt.ylabel('# of Occurences (normalized)')\n",
    "plt.show()"
   ]
  },
  {
   "cell_type": "code",
   "execution_count": 198,
   "metadata": {},
   "outputs": [
    {
     "data": {
      "image/png": "[encoded data removed]",
      "text/plain": [
       "<matplotlib.figure.Figure at 0x114e63048>"
      ]
     },
     "metadata": {},
     "output_type": "display_data"
    }
   ],
   "source": [
    "normalized_melt = normalized_data(melting_temps, 50000)"
   ]
  },
  {
   "cell_type": "markdown",
   "metadata": {},
   "source": [
    "## Gene Names of C.elegans\n"
   ]
  },
  {
   "cell_type": "code",
   "execution_count": 167,
   "metadata": {
    "collapsed": true
   },
   "outputs": [],
   "source": [
    "from Bio import SeqIO"
   ]
  },
  {
   "cell_type": "code",
   "execution_count": 168,
   "metadata": {},
   "outputs": [],
   "source": [
    "# Read fasta and create dataframe for genes for c.elegans\n",
    "nm = []\n",
    "sq = []\n",
    "for i in SeqIO.parse('./genome.fa', 'fasta'):\n",
    "    nm.append(i.name)\n",
    "    tmp_seq = \"\".join((i.seq))\n",
    "    sq.append(tmp_seq)\n",
    "\n",
    "celegans_genes = pd.DataFrame()\n",
    "celegans_genes['gene_name'] = pd.Series(nm)\n",
    "celegans_genes['sequence'] = pd.Series(sq)"
   ]
  },
  {
   "cell_type": "code",
   "execution_count": 169,
   "metadata": {
    "scrolled": true
   },
   "outputs": [
    {
     "data": {
      "text/html": [
       "<div>\n",
       "<table border=\"1\" class=\"dataframe\">\n",
       "  <thead>\n",
       "    <tr style=\"text-align: right;\">\n",
       "      <th></th>\n",
       "      <th>gene_name</th>\n",
       "      <th>sequence</th>\n",
       "    </tr>\n",
       "  </thead>\n",
       "  <tbody>\n",
       "    <tr>\n",
       "      <th>0</th>\n",
       "      <td>2L52.1a</td>\n",
       "      <td>atgtcaatggtaagaaatgtatcaaatcagagcgaaaaattggaaa...</td>\n",
       "    </tr>\n",
       "    <tr>\n",
       "      <th>1</th>\n",
       "      <td>2L52.1b</td>\n",
       "      <td>atgtcagataatgaagaagtatatgtgaacttccgtggaatgaact...</td>\n",
       "    </tr>\n",
       "    <tr>\n",
       "      <th>2</th>\n",
       "      <td>3R5.1b</td>\n",
       "      <td>atgttttcaccgctcgagtgtcgtcttgctgttgcttgtaaattcc...</td>\n",
       "    </tr>\n",
       "    <tr>\n",
       "      <th>3</th>\n",
       "      <td>4R79.1a</td>\n",
       "      <td>atgcttgaccacgttttgcttttaacctactgcttagtttcaactg...</td>\n",
       "    </tr>\n",
       "    <tr>\n",
       "      <th>4</th>\n",
       "      <td>4R79.1b</td>\n",
       "      <td>atgcattccgtcggattttggcacgaacactcgagagctgatcgcg...</td>\n",
       "    </tr>\n",
       "  </tbody>\n",
       "</table>\n",
       "</div>"
      ],
      "text/plain": [
       "  gene_name                                           sequence\n",
       "0   2L52.1a  atgtcaatggtaagaaatgtatcaaatcagagcgaaaaattggaaa...\n",
       "1   2L52.1b  atgtcagataatgaagaagtatatgtgaacttccgtggaatgaact...\n",
       "2    3R5.1b  atgttttcaccgctcgagtgtcgtcttgctgttgcttgtaaattcc...\n",
       "3   4R79.1a  atgcttgaccacgttttgcttttaacctactgcttagtttcaactg...\n",
       "4   4R79.1b  atgcattccgtcggattttggcacgaacactcgagagctgatcgcg..."
      ]
     },
     "execution_count": 169,
     "metadata": {},
     "output_type": "execute_result"
    }
   ],
   "source": [
    "celegans_genes.head()"
   ]
  },
  {
   "cell_type": "code",
   "execution_count": 170,
   "metadata": {},
   "outputs": [
    {
     "data": {
      "text/html": [
       "<div>\n",
       "<table border=\"1\" class=\"dataframe\">\n",
       "  <thead>\n",
       "    <tr style=\"text-align: right;\">\n",
       "      <th></th>\n",
       "      <th>gene_id</th>\n",
       "      <th>gene_name</th>\n",
       "    </tr>\n",
       "  </thead>\n",
       "  <tbody>\n",
       "    <tr>\n",
       "      <th>0</th>\n",
       "      <td>aap-1</td>\n",
       "      <td>Y110A7A.10</td>\n",
       "    </tr>\n",
       "    <tr>\n",
       "      <th>1</th>\n",
       "      <td>aat-1</td>\n",
       "      <td>F27C8.1</td>\n",
       "    </tr>\n",
       "    <tr>\n",
       "      <th>2</th>\n",
       "      <td>aat-2</td>\n",
       "      <td>F07C3.7</td>\n",
       "    </tr>\n",
       "    <tr>\n",
       "      <th>3</th>\n",
       "      <td>aat-3</td>\n",
       "      <td>F52H2.2</td>\n",
       "    </tr>\n",
       "    <tr>\n",
       "      <th>4</th>\n",
       "      <td>aat-4</td>\n",
       "      <td>T13A10.10</td>\n",
       "    </tr>\n",
       "  </tbody>\n",
       "</table>\n",
       "</div>"
      ],
      "text/plain": [
       "  gene_id   gene_name\n",
       "0   aap-1  Y110A7A.10\n",
       "1   aat-1     F27C8.1\n",
       "2   aat-2     F07C3.7\n",
       "3   aat-3     F52H2.2\n",
       "4   aat-4   T13A10.10"
      ]
     },
     "execution_count": 170,
     "metadata": {},
     "output_type": "execute_result"
    }
   ],
   "source": [
    "# Read the GeneIDs for celegans\n",
    "gene_df = pd.read_csv('./gene_IDs.txt', header=None, usecols=[2,3])\n",
    "gene_df.columns = ['gene_id', 'gene_name']\n",
    "gene_df.head()"
   ]
  },
  {
   "cell_type": "code",
   "execution_count": 199,
   "metadata": {},
   "outputs": [],
   "source": [
    "# merge dataframes by the gene_name\n",
    "complete_gene_df = celegans_genes.join(gene_df.set_index('gene_name'), on='gene_name')"
   ]
  },
  {
   "cell_type": "code",
   "execution_count": 200,
   "metadata": {},
   "outputs": [
    {
     "data": {
      "text/html": [
       "<div>\n",
       "<table border=\"1\" class=\"dataframe\">\n",
       "  <thead>\n",
       "    <tr style=\"text-align: right;\">\n",
       "      <th></th>\n",
       "      <th>gene_name</th>\n",
       "      <th>sequence</th>\n",
       "      <th>gene_id</th>\n",
       "    </tr>\n",
       "  </thead>\n",
       "  <tbody>\n",
       "    <tr>\n",
       "      <th>0</th>\n",
       "      <td>2L52.1a</td>\n",
       "      <td>atgtcaatggtaagaaatgtatcaaatcagagcgaaaaattggaaa...</td>\n",
       "      <td>NaN</td>\n",
       "    </tr>\n",
       "    <tr>\n",
       "      <th>1</th>\n",
       "      <td>2L52.1b</td>\n",
       "      <td>atgtcagataatgaagaagtatatgtgaacttccgtggaatgaact...</td>\n",
       "      <td>NaN</td>\n",
       "    </tr>\n",
       "    <tr>\n",
       "      <th>2</th>\n",
       "      <td>3R5.1b</td>\n",
       "      <td>atgttttcaccgctcgagtgtcgtcttgctgttgcttgtaaattcc...</td>\n",
       "      <td>NaN</td>\n",
       "    </tr>\n",
       "    <tr>\n",
       "      <th>3</th>\n",
       "      <td>4R79.1a</td>\n",
       "      <td>atgcttgaccacgttttgcttttaacctactgcttagtttcaactg...</td>\n",
       "      <td>NaN</td>\n",
       "    </tr>\n",
       "    <tr>\n",
       "      <th>4</th>\n",
       "      <td>4R79.1b</td>\n",
       "      <td>atgcattccgtcggattttggcacgaacactcgagagctgatcgcg...</td>\n",
       "      <td>NaN</td>\n",
       "    </tr>\n",
       "  </tbody>\n",
       "</table>\n",
       "</div>"
      ],
      "text/plain": [
       "  gene_name                                           sequence gene_id\n",
       "0   2L52.1a  atgtcaatggtaagaaatgtatcaaatcagagcgaaaaattggaaa...     NaN\n",
       "1   2L52.1b  atgtcagataatgaagaagtatatgtgaacttccgtggaatgaact...     NaN\n",
       "2    3R5.1b  atgttttcaccgctcgagtgtcgtcttgctgttgcttgtaaattcc...     NaN\n",
       "3   4R79.1a  atgcttgaccacgttttgcttttaacctactgcttagtttcaactg...     NaN\n",
       "4   4R79.1b  atgcattccgtcggattttggcacgaacactcgagagctgatcgcg...     NaN"
      ]
     },
     "execution_count": 200,
     "metadata": {},
     "output_type": "execute_result"
    }
   ],
   "source": [
    "complete_gene_df.head()"
   ]
  },
  {
   "cell_type": "code",
   "execution_count": 203,
   "metadata": {},
   "outputs": [
    {
     "data": {
      "text/plain": [
       "array(['rde-12', 'dpy-13', 'dpy-7', 'dpy-10', 'dpy-6', 'rde-8', 'cdkl-1',\n",
       "       'pat-2', 'pat-3', 'mei-1', 'ned-8', 'mel-26', 'cul-3', 'aspm-1',\n",
       "       'cul-2', 'sas-7', 'ani-1', 'drp-1', 'ebp-2', 'apr-1', 'rap-3',\n",
       "       'C52B11.5', 'pqn-82', 'C25A6.1', 'C25E10.12', 'T26C12.3', 'flp-32',\n",
       "       'flp-8', 'K01G5.9', 'Y67D8C.3', 'kin-24', 'pry-1', 'T22C1.1',\n",
       "       'Y54G2A.23', 'F18F11.5', 'F11A5.3', 'arl-3', 'unc-2', 'efk-1',\n",
       "       'F01D4.9', 'C16A11.10', 'avr-15', 'ubr-1', 'nspc-1:7', 'Y79H2A.4',\n",
       "       'T08B6.5', 'eif-3.G', 'srg-3:8', 'R08A2.2', 'W04C9.5', 'flp-9',\n",
       "       'lgc-10', 'lgc-15', 'lgc-17', 'rsp-4', 'EEED8.4', 'EEED8.12',\n",
       "       'lgc-31', 'C50B8.1', 'C25A1.4', 'lgc-45', 'C34D4.2'], dtype=object)"
      ]
     },
     "execution_count": 203,
     "metadata": {},
     "output_type": "execute_result"
    }
   ],
   "source": [
    "used_genes = data.target_name.unique()\n",
    "used_genes"
   ]
  },
  {
   "cell_type": "code",
   "execution_count": 205,
   "metadata": {
    "scrolled": true
   },
   "outputs": [
    {
     "name": "stdout",
     "output_type": "stream",
     "text": [
      "['rde-12' 'dpy-13' 'dpy-7' 'dpy-10' 'dpy-6' 'rde-8' 'cdkl-1' 'pat-2'\n",
      " 'pat-3' 'mei-1' 'ned-8' 'mel-26' 'cul-3' 'aspm-1' 'cul-2' 'sas-7' 'ani-1'\n",
      " 'drp-1' 'ebp-2' 'apr-1' 'rap-3' 'C52B11.5' 'pqn-82' 'C25A6.1' 'C25E10.12'\n",
      " 'T26C12.3' 'flp-32' 'flp-8' 'K01G5.9' 'Y67D8C.3' 'kin-24' 'pry-1'\n",
      " 'T22C1.1' 'Y54G2A.23' 'F18F11.5' 'F11A5.3' 'arl-3' 'unc-2' 'efk-1'\n",
      " 'F01D4.9' 'C16A11.10' 'avr-15' 'ubr-1' 'nspc-1' 'nspc-2' 'nspc-3' 'nspc-4'\n",
      " 'nspc-5' 'nspc-6' 'nspc-7' 'Y79H2A.4' 'T08B6.5' 'eif-3.G' 'srg-3' 'srg-4'\n",
      " 'srg-5' 'srg-6' 'srg-7' 'srg-8' 'R08A2.2' 'W04C9.5' 'flp-9' 'lgc-10'\n",
      " 'lgc-15' 'lgc-17' 'rsp-4' 'EEED8.4' 'EEED8.12' 'lgc-31' 'C50B8.1'\n",
      " 'C25A1.4' 'lgc-45' 'C34D4.2']\n"
     ]
    }
   ],
   "source": [
    "# Expand the gene_names since some is weirdly putted.\n",
    "used_genes_exp = []\n",
    "for i in used_genes:\n",
    "    if ':' in i:\n",
    "        start = int(i[-3:-2])\n",
    "        end = int(i[-1:])\n",
    "        for k in range(start, end+1):\n",
    "            name = i[:-3] + str(k)\n",
    "            used_genes_exp.append(name)\n",
    "    else:\n",
    "        used_genes_exp.append(i)   \n",
    "used_genes_exp = np.array(used_genes_exp)\n",
    "print(used_genes_exp)"
   ]
  },
  {
   "cell_type": "code",
   "execution_count": 212,
   "metadata": {},
   "outputs": [
    {
     "data": {
      "text/plain": [
       "array(['C16A11.10', 'C25A1.4', 'C25E10.12', 'C34D4.2', 'C50B8.1',\n",
       "       'C52B11.5', 'EEED8.12', 'EEED8.4', 'F18F11.5', 'K01G5.9', 'R08A2.2',\n",
       "       'T08B6.5', 'T22C1.1', 'Y54G2A.23'], dtype=object)"
      ]
     },
     "execution_count": 212,
     "metadata": {},
     "output_type": "execute_result"
    }
   ],
   "source": [
    "# Get the intersected gene_names\n",
    "full_gene_names = complete_gene_df['gene_name'].values\n",
    "gene_name_matches= np.intersect1d(used_genes_exp, full_gene_names)\n",
    "gene_name_matches"
   ]
  },
  {
   "cell_type": "code",
   "execution_count": null,
   "metadata": {
    "collapsed": true
   },
   "outputs": [],
   "source": [
    "# Replace NaN s with str 0, for type consistency\n",
    "complete_gene_df['gene_id'].fillna('0')"
   ]
  },
  {
   "cell_type": "code",
   "execution_count": 213,
   "metadata": {},
   "outputs": [
    {
     "data": {
      "text/plain": [
       "array(['ani-1', 'aspm-1', 'dpy-13', 'dpy-6', 'dpy-7', 'ebp-2', 'flp-32',\n",
       "       'flp-9', 'kin-24', 'ned-8', 'nspc-1', 'nspc-4', 'nspc-7', 'pat-2',\n",
       "       'pat-3', 'pqn-82', 'pry-1', 'rap-3', 'rde-8', 'sas-7', 'ubr-1'], dtype=object)"
      ]
     },
     "execution_count": 213,
     "metadata": {},
     "output_type": "execute_result"
    }
   ],
   "source": [
    "# Get the intersected gene_ids\n",
    "full_gene_ids = complete_gene_df['gene_id'].values\n",
    "gene_id_matches = np.intersect1d(used_genes_exp, full_gene_ids)\n",
    "gene_id_matches"
   ]
  },
  {
   "cell_type": "code",
   "execution_count": 216,
   "metadata": {},
   "outputs": [
    {
     "data": {
      "text/plain": [
       "38"
      ]
     },
     "execution_count": 216,
     "metadata": {},
     "output_type": "execute_result"
    }
   ],
   "source": [
    "len(used_genes_exp) - (len(gene_id_matches) + len(gene_name_matches))"
   ]
  },
  {
   "cell_type": "markdown",
   "metadata": {},
   "source": [
    "\n",
    "Cleaning the Genes that does not have gene_ids"
   ]
  },
  {
   "cell_type": "code",
   "execution_count": 220,
   "metadata": {},
   "outputs": [],
   "source": [
    "complete_gene_df = complete_gene_df[complete_gene_df['gene_id']!='0']\n",
    "complete_gene_df = complete_gene_df.reset_index()"
   ]
  },
  {
   "cell_type": "markdown",
   "metadata": {},
   "source": [
    "__Tips for selecting sgRNA:__\n",
    "\n",
    "Through our own experience, we have identified additional tips for designing sgRNAs. We have found that the best sgRNAs for several tested genes have a G at position 1 and an A or T at position 17."
   ]
  },
  {
   "cell_type": "code",
   "execution_count": 240,
   "metadata": {},
   "outputs": [
    {
     "name": "stdout",
     "output_type": "stream",
     "text": [
      "The average of sequence lengths we have is 1328.26313395\n"
     ]
    }
   ],
   "source": [
    "avg = np.mean(list(map(len, complete_gene_df['sequence'].values)))\n",
    "print('The average of sequence lengths we have is', avg)"
   ]
  },
  {
   "cell_type": "code",
   "execution_count": 252,
   "metadata": {
    "collapsed": true
   },
   "outputs": [],
   "source": [
    "def kmer_counts(sequence, k=4):\n",
    "    \"\"\"Kmer counting function\n",
    "    Inputs: \n",
    "        - DNA Sequence (string) (Mandatory)\n",
    "        - kmer size (int) (default=4) \n",
    "    Output:\n",
    "        - Dictionary that holds unique kmer (key) and occurences\n",
    "    \"\"\"\n",
    "    kmers = {}\n",
    "    for i in range(len(sequence) - k + 1):\n",
    "       kmer = sequence[i:i+k]\n",
    "       if kmer in kmers:\n",
    "          kmers[kmer] += 1\n",
    "       else:\n",
    "          kmers[kmer] = 1\n",
    "    return kmers\n",
    "    # Uncomment when to print kmer and counts\n",
    "#     for kmer, count in kmers.items():\n",
    "#        print (kmer + \"\\t\" + str(count))"
   ]
  },
  {
   "cell_type": "code",
   "execution_count": 248,
   "metadata": {
    "collapsed": true
   },
   "outputs": [],
   "source": [
    "x = {'A':4, 'B':5}"
   ]
  },
  {
   "cell_type": "code",
   "execution_count": 253,
   "metadata": {
    "collapsed": true
   },
   "outputs": [],
   "source": [
    "def unique_kmers(sequence, k=4):\n",
    "    \"\"\"Returns uinque kmers as a list using kmer_counts function\"\"\"\n",
    "    kmer_dict = kmer_counts(sequence, k)\n",
    "    return list(kmer_dict.keys())"
   ]
  },
  {
   "cell_type": "code",
   "execution_count": 254,
   "metadata": {
    "collapsed": true
   },
   "outputs": [],
   "source": [
    "example = (complete_gene_df['sequence'][0])"
   ]
  },
  {
   "cell_type": "code",
   "execution_count": 261,
   "metadata": {},
   "outputs": [],
   "source": [
    "t = unique_kmers(example, 30)"
   ]
  },
  {
   "cell_type": "code",
   "execution_count": 270,
   "metadata": {
    "collapsed": true
   },
   "outputs": [],
   "source": [
    "def sgRNA_candidate_selector(all_kmers):\n",
    "    \"\"\"Returns candidate list that ensures following conditions\"\"\"\n",
    "    candidate_lst = []\n",
    "    for i in all_kmers:\n",
    "        if i[0] != 'g' and (i[17] != 't' or i[17] != 'a'):\n",
    "            continue\n",
    "\n",
    "        else:\n",
    "            candidate_lst.append(i)\n",
    "    return candidate_lst"
   ]
  },
  {
   "cell_type": "code",
   "execution_count": 322,
   "metadata": {
    "scrolled": true
   },
   "outputs": [
    {
     "name": "stdout",
     "output_type": "stream",
     "text": [
      "Looping through: 0 / 4397\n",
      "Looping through: 100 / 4397\n",
      "Looping through: 200 / 4397\n",
      "Looping through: 300 / 4397\n",
      "Looping through: 400 / 4397\n",
      "Looping through: 500 / 4397\n",
      "Looping through: 600 / 4397\n",
      "Looping through: 700 / 4397\n",
      "Looping through: 800 / 4397\n",
      "Looping through: 900 / 4397\n",
      "Looping through: 1000 / 4397\n",
      "Looping through: 1100 / 4397\n",
      "Looping through: 1200 / 4397\n",
      "Looping through: 1300 / 4397\n",
      "Looping through: 1400 / 4397\n",
      "Looping through: 1500 / 4397\n",
      "Looping through: 1600 / 4397\n",
      "Looping through: 1700 / 4397\n",
      "Looping through: 1800 / 4397\n",
      "Looping through: 1900 / 4397\n",
      "Looping through: 2000 / 4397\n",
      "Looping through: 2100 / 4397\n",
      "Looping through: 2200 / 4397\n",
      "Looping through: 2300 / 4397\n",
      "Looping through: 2400 / 4397\n",
      "Looping through: 2500 / 4397\n",
      "Looping through: 2600 / 4397\n",
      "Looping through: 2700 / 4397\n",
      "Looping through: 2800 / 4397\n",
      "Looping through: 2900 / 4397\n",
      "Looping through: 3000 / 4397\n",
      "Looping through: 3100 / 4397\n",
      "Looping through: 3200 / 4397\n",
      "Looping through: 3300 / 4397\n",
      "Looping through: 3400 / 4397\n",
      "Looping through: 3500 / 4397\n",
      "Looping through: 3600 / 4397\n",
      "Looping through: 3700 / 4397\n",
      "Looping through: 3800 / 4397\n",
      "Looping through: 3900 / 4397\n",
      "Looping through: 4000 / 4397\n",
      "Looping through: 4100 / 4397\n",
      "Looping through: 4200 / 4397\n",
      "Looping through: 4300 / 4397\n"
     ]
    }
   ],
   "source": [
    "# Run through all the sequences and select sgRNA candidate selector\n",
    "size = complete_gene_df.shape[0]\n",
    "all_sgRNA = {}\n",
    "for idx in range(size):\n",
    "    if idx % 100 == 0:\n",
    "        print(\"Looping through:\", idx,\"/\", size)\n",
    "    seq = complete_gene_df['sequence'][idx]\n",
    "    gene = complete_gene_df['gene_name'][idx]\n",
    "    candidates = sgRNA_candidate_selector(unique_kmers(seq, 30))\n",
    "    if len(candidates) != 0:\n",
    "        all_sgRNA[gene] = candidates"
   ]
  },
  {
   "cell_type": "code",
   "execution_count": 323,
   "metadata": {},
   "outputs": [
    {
     "data": {
      "text/plain": [
       "328"
      ]
     },
     "execution_count": 323,
     "metadata": {},
     "output_type": "execute_result"
    }
   ],
   "source": [
    "len(all_sgRNA['F31E3.5'])"
   ]
  },
  {
   "cell_type": "code",
   "execution_count": 357,
   "metadata": {},
   "outputs": [],
   "source": [
    "# Creating a dataframe\n",
    "dummy_sgRNA = pd.DataFrame()\n",
    "\n",
    "genes_lst = []\n",
    "sgRNA_lst = []\n",
    "for key in all_sgRNA.keys():\n",
    "    for i in all_sgRNA[key]:\n",
    "        genes_lst.append(key)\n",
    "        sgRNA_lst.append(i.upper())\n",
    "        \n",
    "dummy_sgRNA['sgRNA'] = pd.Series(sgRNA_lst)\n",
    "dummy_sgRNA['target_name'] = pd.Series(genes_lst)"
   ]
  },
  {
   "cell_type": "code",
   "execution_count": 358,
   "metadata": {},
   "outputs": [
    {
     "data": {
      "text/plain": [
       "(1280830, 2)"
      ]
     },
     "execution_count": 358,
     "metadata": {},
     "output_type": "execute_result"
    }
   ],
   "source": [
    "dummy_sgRNA.shape"
   ]
  },
  {
   "cell_type": "code",
   "execution_count": 359,
   "metadata": {},
   "outputs": [
    {
     "data": {
      "text/html": [
       "<div>\n",
       "<table border=\"1\" class=\"dataframe\">\n",
       "  <thead>\n",
       "    <tr style=\"text-align: right;\">\n",
       "      <th></th>\n",
       "      <th>sgRNA</th>\n",
       "      <th>target_name</th>\n",
       "    </tr>\n",
       "  </thead>\n",
       "  <tbody>\n",
       "    <tr>\n",
       "      <th>0</th>\n",
       "      <td>GAGGCCCGTTTCACCGAGATCACCAACGAG</td>\n",
       "      <td>F31E3.5</td>\n",
       "    </tr>\n",
       "    <tr>\n",
       "      <th>1</th>\n",
       "      <td>GTCAAGTCCGTTGAGATGCATCACGAATCT</td>\n",
       "      <td>F31E3.5</td>\n",
       "    </tr>\n",
       "    <tr>\n",
       "      <th>2</th>\n",
       "      <td>GAGATCACCAACGAGGTTTCTGGATTCATC</td>\n",
       "      <td>F31E3.5</td>\n",
       "    </tr>\n",
       "    <tr>\n",
       "      <th>3</th>\n",
       "      <td>GCCCCAGGACATCGTGATTTCATCAAGAAC</td>\n",
       "      <td>F31E3.5</td>\n",
       "    </tr>\n",
       "    <tr>\n",
       "      <th>4</th>\n",
       "      <td>GAACATCCCAGGCCGATTGCGCCGTCTTGG</td>\n",
       "      <td>F31E3.5</td>\n",
       "    </tr>\n",
       "  </tbody>\n",
       "</table>\n",
       "</div>"
      ],
      "text/plain": [
       "                            sgRNA target_name\n",
       "0  GAGGCCCGTTTCACCGAGATCACCAACGAG     F31E3.5\n",
       "1  GTCAAGTCCGTTGAGATGCATCACGAATCT     F31E3.5\n",
       "2  GAGATCACCAACGAGGTTTCTGGATTCATC     F31E3.5\n",
       "3  GCCCCAGGACATCGTGATTTCATCAAGAAC     F31E3.5\n",
       "4  GAACATCCCAGGCCGATTGCGCCGTCTTGG     F31E3.5"
      ]
     },
     "execution_count": 359,
     "metadata": {},
     "output_type": "execute_result"
    }
   ],
   "source": [
    "dummy_sgRNA.head()"
   ]
  },
  {
   "cell_type": "markdown",
   "metadata": {},
   "source": [
    "### Further checks and filteration\n",
    "\n",
    "1. Check GC Contents and select ```calc_gc(sequence)```\n",
    "2. Check melting temperature and select ```melt_temp(sequence)```"
   ]
  },
  {
   "cell_type": "code",
   "execution_count": 360,
   "metadata": {},
   "outputs": [],
   "source": [
    "# Adding corresponding scores of gc counts and melting temps\n",
    "dummy_sgRNA['melting_temp'] = pd.Series(map(melt_temp, list(dummy_sgRNA['sgRNA'])))\n",
    "dummy_sgRNA['gc_counts'] = pd.Series(map(calc_gc, list(dummy_sgRNA['sgRNA'])))"
   ]
  },
  {
   "cell_type": "code",
   "execution_count": 361,
   "metadata": {},
   "outputs": [
    {
     "data": {
      "text/html": [
       "<div>\n",
       "<table border=\"1\" class=\"dataframe\">\n",
       "  <thead>\n",
       "    <tr style=\"text-align: right;\">\n",
       "      <th></th>\n",
       "      <th>sgRNA</th>\n",
       "      <th>target_name</th>\n",
       "      <th>melting_temp</th>\n",
       "      <th>gc_counts</th>\n",
       "    </tr>\n",
       "  </thead>\n",
       "  <tbody>\n",
       "    <tr>\n",
       "      <th>0</th>\n",
       "      <td>GAGGCCCGTTTCACCGAGATCACCAACGAG</td>\n",
       "      <td>F31E3.5</td>\n",
       "      <td>67.086667</td>\n",
       "      <td>60.000000</td>\n",
       "    </tr>\n",
       "    <tr>\n",
       "      <th>1</th>\n",
       "      <td>GTCAAGTCCGTTGAGATGCATCACGAATCT</td>\n",
       "      <td>F31E3.5</td>\n",
       "      <td>61.620000</td>\n",
       "      <td>46.666667</td>\n",
       "    </tr>\n",
       "    <tr>\n",
       "      <th>2</th>\n",
       "      <td>GAGATCACCAACGAGGTTTCTGGATTCATC</td>\n",
       "      <td>F31E3.5</td>\n",
       "      <td>61.620000</td>\n",
       "      <td>46.666667</td>\n",
       "    </tr>\n",
       "    <tr>\n",
       "      <th>3</th>\n",
       "      <td>GCCCCAGGACATCGTGATTTCATCAAGAAC</td>\n",
       "      <td>F31E3.5</td>\n",
       "      <td>62.986667</td>\n",
       "      <td>50.000000</td>\n",
       "    </tr>\n",
       "    <tr>\n",
       "      <th>4</th>\n",
       "      <td>GAACATCCCAGGCCGATTGCGCCGTCTTGG</td>\n",
       "      <td>F31E3.5</td>\n",
       "      <td>68.453333</td>\n",
       "      <td>63.333333</td>\n",
       "    </tr>\n",
       "  </tbody>\n",
       "</table>\n",
       "</div>"
      ],
      "text/plain": [
       "                            sgRNA target_name  melting_temp  gc_counts\n",
       "0  GAGGCCCGTTTCACCGAGATCACCAACGAG     F31E3.5     67.086667  60.000000\n",
       "1  GTCAAGTCCGTTGAGATGCATCACGAATCT     F31E3.5     61.620000  46.666667\n",
       "2  GAGATCACCAACGAGGTTTCTGGATTCATC     F31E3.5     61.620000  46.666667\n",
       "3  GCCCCAGGACATCGTGATTTCATCAAGAAC     F31E3.5     62.986667  50.000000\n",
       "4  GAACATCCCAGGCCGATTGCGCCGTCTTGG     F31E3.5     68.453333  63.333333"
      ]
     },
     "execution_count": 361,
     "metadata": {},
     "output_type": "execute_result"
    }
   ],
   "source": [
    "dummy_sgRNA.head()"
   ]
  },
  {
   "cell_type": "code",
   "execution_count": 362,
   "metadata": {},
   "outputs": [
    {
     "data": {
      "text/plain": [
       "(1280830, 4)"
      ]
     },
     "execution_count": 362,
     "metadata": {},
     "output_type": "execute_result"
    }
   ],
   "source": [
    "dummy_sgRNA.shape"
   ]
  },
  {
   "cell_type": "code",
   "execution_count": 363,
   "metadata": {},
   "outputs": [],
   "source": [
    "# Making sure that candidates are in between the real datas gc_counts and melting temps\n",
    "dummy_sgRNA = dummy_sgRNA[((dummy_sgRNA['melting_temp'] > min(gc_counts)) & \n",
    "                           (dummy_sgRNA['melting_temp'] < max(gc_counts))) & \n",
    "                           ((dummy_sgRNA['gc_counts'] > min(melting_temps)) & \n",
    "                           (dummy_sgRNA['gc_counts'] < max(melting_temps))) ]"
   ]
  },
  {
   "cell_type": "code",
   "execution_count": 364,
   "metadata": {},
   "outputs": [
    {
     "data": {
      "text/plain": [
       "(790200, 4)"
      ]
     },
     "execution_count": 364,
     "metadata": {},
     "output_type": "execute_result"
    }
   ],
   "source": [
    "dummy_sgRNA.shape"
   ]
  },
  {
   "cell_type": "code",
   "execution_count": 369,
   "metadata": {},
   "outputs": [
    {
     "data": {
      "text/plain": [
       "781980"
      ]
     },
     "execution_count": 369,
     "metadata": {},
     "output_type": "execute_result"
    }
   ],
   "source": [
    "len(dummy_sgRNA['sgRNA'].unique())"
   ]
  },
  {
   "cell_type": "code",
   "execution_count": 371,
   "metadata": {},
   "outputs": [],
   "source": [
    "dummy_sgRNA = dummy_sgRNA.drop_duplicates(['sgRNA'])"
   ]
  },
  {
   "cell_type": "code",
   "execution_count": 372,
   "metadata": {},
   "outputs": [
    {
     "data": {
      "text/plain": [
       "(781980, 4)"
      ]
     },
     "execution_count": 372,
     "metadata": {},
     "output_type": "execute_result"
    }
   ],
   "source": [
    "dummy_sgRNA.shape"
   ]
  },
  {
   "cell_type": "code",
   "execution_count": 386,
   "metadata": {},
   "outputs": [],
   "source": [
    "dummy_sgRNA = dummy_sgRNA.reset_index(drop=True)"
   ]
  },
  {
   "cell_type": "markdown",
   "metadata": {},
   "source": [
    "### Filtering further by looking at the PAM "
   ]
  },
  {
   "cell_type": "code",
   "execution_count": 394,
   "metadata": {},
   "outputs": [],
   "source": [
    "binary_truth = []\n",
    "for i in range(dummy_sgRNA.shape[0]):\n",
    "    seq = dummy_sgRNA['sgRNA'][i]\n",
    "    # Checking the last 5 bp of 20 mid sequence for PAM\n",
    "    sub_seq = seq[-10:-5]\n",
    "    if 'GG' in sub_seq:\n",
    "        if seq[4] == 'G':\n",
    "            binary_truth.append(1)\n",
    "        else: \n",
    "            binary_truth.append(0)\n",
    "    else:\n",
    "        binary_truth.append(0)\n",
    "dummy_sgRNA['true_PAM'] = pd.Series(binary_truth)"
   ]
  },
  {
   "cell_type": "code",
   "execution_count": 395,
   "metadata": {},
   "outputs": [],
   "source": [
    "dummy_sgRNA = dummy_sgRNA[dummy_sgRNA['true_PAM'] == 1].reset_index(drop=True)"
   ]
  },
  {
   "cell_type": "code",
   "execution_count": 397,
   "metadata": {},
   "outputs": [
    {
     "data": {
      "text/plain": [
       "(32435, 5)"
      ]
     },
     "execution_count": 397,
     "metadata": {},
     "output_type": "execute_result"
    }
   ],
   "source": [
    "dummy_sgRNA.shape"
   ]
  },
  {
   "cell_type": "markdown",
   "metadata": {},
   "source": [
    "## simulating other Variables too"
   ]
  },
  {
   "cell_type": "code",
   "execution_count": 400,
   "metadata": {},
   "outputs": [
    {
     "data": {
      "text/html": [
       "<div>\n",
       "<table border=\"1\" class=\"dataframe\">\n",
       "  <thead>\n",
       "    <tr style=\"text-align: right;\">\n",
       "      <th></th>\n",
       "      <th>sgRNA-1</th>\n",
       "      <th>sgRNA-2</th>\n",
       "      <th>target_name</th>\n",
       "      <th>sgRNA_cut</th>\n",
       "      <th>num_worms</th>\n",
       "      <th>num_lines</th>\n",
       "      <th>sgRNA_type</th>\n",
       "      <th>promoter_used</th>\n",
       "      <th>cas9_type</th>\n",
       "      <th>screening_method</th>\n",
       "      <th>repair_mechanism</th>\n",
       "    </tr>\n",
       "  </thead>\n",
       "  <tbody>\n",
       "    <tr>\n",
       "      <th>0</th>\n",
       "      <td>GATTCTCGCGATAACCACGGTGG</td>\n",
       "      <td></td>\n",
       "      <td>rde-12</td>\n",
       "      <td>Yes</td>\n",
       "      <td>160</td>\n",
       "      <td>95</td>\n",
       "      <td>DNA</td>\n",
       "      <td>K09B11.12 U6 promoter</td>\n",
       "      <td>circular plasmid DNA</td>\n",
       "      <td>Positive selectable markers</td>\n",
       "      <td>NHEJ</td>\n",
       "    </tr>\n",
       "    <tr>\n",
       "      <th>1</th>\n",
       "      <td>GGACATTGACACTAAAATCAAGG</td>\n",
       "      <td></td>\n",
       "      <td>dpy-13</td>\n",
       "      <td>Yes</td>\n",
       "      <td>40</td>\n",
       "      <td>1</td>\n",
       "      <td>DNA</td>\n",
       "      <td>K09B11.12 U6 promoter</td>\n",
       "      <td>circular plasmid DNA</td>\n",
       "      <td>PCR and/or DNA sequencing</td>\n",
       "      <td>NHEJ</td>\n",
       "    </tr>\n",
       "    <tr>\n",
       "      <th>2</th>\n",
       "      <td>GTTATGAAGCTGACGGCGGACGG</td>\n",
       "      <td></td>\n",
       "      <td>dpy-13</td>\n",
       "      <td>Yes</td>\n",
       "      <td>35</td>\n",
       "      <td>3</td>\n",
       "      <td>DNA</td>\n",
       "      <td>K09B11.12 U6 promoter</td>\n",
       "      <td>circular plasmid DNA</td>\n",
       "      <td>phenotypic analysis</td>\n",
       "      <td>NHEJ</td>\n",
       "    </tr>\n",
       "    <tr>\n",
       "      <th>3</th>\n",
       "      <td>GGCAATGCTGAGTGACACGGTGG</td>\n",
       "      <td></td>\n",
       "      <td>dpy-7</td>\n",
       "      <td>Yes</td>\n",
       "      <td>300</td>\n",
       "      <td>240</td>\n",
       "      <td>DNA</td>\n",
       "      <td>K09B11.12 U6 promoter</td>\n",
       "      <td>circular plasmid DNA</td>\n",
       "      <td>phenotypic analysis</td>\n",
       "      <td>NHEJ</td>\n",
       "    </tr>\n",
       "    <tr>\n",
       "      <th>4</th>\n",
       "      <td>GCTACCATAGGCACCACGAGCGG</td>\n",
       "      <td></td>\n",
       "      <td>dpy-10</td>\n",
       "      <td>Yes</td>\n",
       "      <td>250</td>\n",
       "      <td>246</td>\n",
       "      <td>DNA</td>\n",
       "      <td>K09B11.12 U6 promoter</td>\n",
       "      <td>circular plasmid DNA</td>\n",
       "      <td>phenotypic analysis</td>\n",
       "      <td>NHEJ</td>\n",
       "    </tr>\n",
       "  </tbody>\n",
       "</table>\n",
       "</div>"
      ],
      "text/plain": [
       "                   sgRNA-1 sgRNA-2 target_name sgRNA_cut  num_worms num_lines  \\\n",
       "0  GATTCTCGCGATAACCACGGTGG              rde-12       Yes        160        95   \n",
       "1  GGACATTGACACTAAAATCAAGG              dpy-13       Yes         40         1   \n",
       "2  GTTATGAAGCTGACGGCGGACGG              dpy-13       Yes         35         3   \n",
       "3  GGCAATGCTGAGTGACACGGTGG               dpy-7       Yes        300       240   \n",
       "4  GCTACCATAGGCACCACGAGCGG              dpy-10       Yes        250       246   \n",
       "\n",
       "  sgRNA_type          promoter_used             cas9_type  \\\n",
       "0        DNA  K09B11.12 U6 promoter  circular plasmid DNA   \n",
       "1        DNA  K09B11.12 U6 promoter  circular plasmid DNA   \n",
       "2        DNA  K09B11.12 U6 promoter  circular plasmid DNA   \n",
       "3        DNA  K09B11.12 U6 promoter  circular plasmid DNA   \n",
       "4        DNA  K09B11.12 U6 promoter  circular plasmid DNA   \n",
       "\n",
       "              screening_method repair_mechanism  \n",
       "0  Positive selectable markers             NHEJ  \n",
       "1    PCR and/or DNA sequencing             NHEJ  \n",
       "2          phenotypic analysis             NHEJ  \n",
       "3          phenotypic analysis             NHEJ  \n",
       "4          phenotypic analysis             NHEJ  "
      ]
     },
     "execution_count": 400,
     "metadata": {},
     "output_type": "execute_result"
    }
   ],
   "source": [
    "data.head()"
   ]
  },
  {
   "cell_type": "markdown",
   "metadata": {},
   "source": [
    "### sgRNA_Cut column"
   ]
  },
  {
   "cell_type": "code",
   "execution_count": 403,
   "metadata": {},
   "outputs": [],
   "source": [
    "sgRNA_cut_lst = data['sgRNA_cut'].map({'Yes': 1, 'No': 0})"
   ]
  },
  {
   "cell_type": "code",
   "execution_count": 431,
   "metadata": {
    "scrolled": true
   },
   "outputs": [
    {
     "data": {
      "text/plain": [
       "63"
      ]
     },
     "execution_count": 431,
     "metadata": {},
     "output_type": "execute_result"
    }
   ],
   "source": [
    "data[data['sgRNA_cut'] == 'Yes'].shape[0]"
   ]
  },
  {
   "cell_type": "code",
   "execution_count": 432,
   "metadata": {},
   "outputs": [
    {
     "name": "stdout",
     "output_type": "stream",
     "text": [
      "0.863013698630137 0.136986301369863\n"
     ]
    }
   ],
   "source": [
    "pos_ratio = data[data['sgRNA_cut'] == 'Yes'].shape[0] / len(data['sgRNA_cut'])\n",
    "neg_ratio = data[data['sgRNA_cut'] == 'No'].shape[0] / len(data['sgRNA_cut'])\n",
    "print(pos_ratio, neg_ratio)"
   ]
  },
  {
   "cell_type": "code",
   "execution_count": 409,
   "metadata": {},
   "outputs": [],
   "source": [
    "m = (sgRNA_cut_lst.values).mean()\n",
    "std = (sgRNA_cut_lst.values).std()"
   ]
  },
  {
   "cell_type": "code",
   "execution_count": 419,
   "metadata": {},
   "outputs": [],
   "source": [
    "x = np.array([int(i) for i in (np.random.normal(m, std, 32435))])"
   ]
  },
  {
   "cell_type": "code",
   "execution_count": 442,
   "metadata": {},
   "outputs": [
    {
     "data": {
      "text/plain": [
       "32435"
      ]
     },
     "execution_count": 442,
     "metadata": {},
     "output_type": "execute_result"
    }
   ],
   "source": [
    "# Validating\n",
    "int(np.ceil(pos_ratio*len(dummy_sgRNA))) + int(np.floor(neg_ratio*len(dummy_sgRNA)))"
   ]
  },
  {
   "cell_type": "code",
   "execution_count": 468,
   "metadata": {
    "collapsed": true
   },
   "outputs": [],
   "source": [
    "pos_lst = []\n",
    "neg_lst = []"
   ]
  },
  {
   "cell_type": "code",
   "execution_count": 469,
   "metadata": {},
   "outputs": [],
   "source": [
    "pos_lst = [1] * int(np.ceil(pos_ratio*len(dummy_sgRNA)))"
   ]
  },
  {
   "cell_type": "code",
   "execution_count": 470,
   "metadata": {
    "collapsed": true
   },
   "outputs": [],
   "source": [
    "neg_lst = [0] * int(np.floor(neg_ratio*len(dummy_sgRNA)))"
   ]
  },
  {
   "cell_type": "code",
   "execution_count": 471,
   "metadata": {
    "collapsed": true
   },
   "outputs": [],
   "source": [
    "cut_lst = pos_lst + neg_lst"
   ]
  },
  {
   "cell_type": "code",
   "execution_count": 472,
   "metadata": {},
   "outputs": [
    {
     "data": {
      "text/plain": [
       "32435"
      ]
     },
     "execution_count": 472,
     "metadata": {},
     "output_type": "execute_result"
    }
   ],
   "source": [
    "len(cut_lst)"
   ]
  },
  {
   "cell_type": "code",
   "execution_count": 473,
   "metadata": {},
   "outputs": [],
   "source": [
    "shuffle(cut_lst)"
   ]
  },
  {
   "cell_type": "markdown",
   "metadata": {},
   "source": [
    "---\n",
    "\n",
    "### num_worms"
   ]
  },
  {
   "cell_type": "code",
   "execution_count": 478,
   "metadata": {},
   "outputs": [
    {
     "data": {
      "text/plain": [
       "3479.2084818915373"
      ]
     },
     "execution_count": 478,
     "metadata": {},
     "output_type": "execute_result"
    }
   ],
   "source": [
    "np.var(data['num_worms'].values)"
   ]
  },
  {
   "cell_type": "code",
   "execution_count": 480,
   "metadata": {},
   "outputs": [
    {
     "data": {
      "text/plain": [
       "9"
      ]
     },
     "execution_count": 480,
     "metadata": {},
     "output_type": "execute_result"
    }
   ],
   "source": [
    "min(data['num_worms'].values)"
   ]
  },
  {
   "cell_type": "code",
   "execution_count": 481,
   "metadata": {
    "collapsed": true
   },
   "outputs": [],
   "source": [
    "m = np.mean(data['num_worms'].values)\n",
    "sd = np.std(data['num_worms'].values)"
   ]
  },
  {
   "cell_type": "code",
   "execution_count": 489,
   "metadata": {},
   "outputs": [],
   "source": [
    "exp_num_worms = np.random.randint(low=min(data['num_worms'].values), \n",
    "                                  high=max(data['num_worms'].values), \n",
    "                                  size=32435)"
   ]
  },
  {
   "cell_type": "markdown",
   "metadata": {},
   "source": [
    "---\n",
    "### num_lines"
   ]
  },
  {
   "cell_type": "code",
   "execution_count": 490,
   "metadata": {
    "collapsed": true
   },
   "outputs": [],
   "source": [
    "exp_num_lines = np.random.randint(low=min(data['num_lines'].values), \n",
    "                                  high=max(data['num_lines'].values), \n",
    "                                  size=32435)"
   ]
  },
  {
   "cell_type": "code",
   "execution_count": 492,
   "metadata": {
    "collapsed": true
   },
   "outputs": [],
   "source": [
    "dummy_sgRNA['sgRNA_cut'] = pd.Series(cut_lst)\n",
    "dummy_sgRNA['num_worms'] = pd.Series(exp_num_worms)\n",
    "dummy_sgRNA['num_lines'] = pd.Series(exp_num_lines)"
   ]
  },
  {
   "cell_type": "code",
   "execution_count": 495,
   "metadata": {},
   "outputs": [],
   "source": [
    "dummy_sgRNA = dummy_sgRNA[['sgRNA', 'target_name', 'sgRNA_cut', 'num_worms', 'num_lines',\n",
    "                             'melting_temp', 'gc_counts', 'true_PAM']]"
   ]
  },
  {
   "cell_type": "code",
   "execution_count": 499,
   "metadata": {},
   "outputs": [],
   "source": [
    "dummy_sgRNA = dummy_sgRNA.drop(['melting_temp', 'gc_counts', 'true_PAM'], axis=1)"
   ]
  },
  {
   "cell_type": "code",
   "execution_count": 500,
   "metadata": {
    "collapsed": true
   },
   "outputs": [],
   "source": [
    "dummy_sgRNA.to_csv('./artificial_sgRNA_c_elegans_data.csv', index=None)"
   ]
  },
  {
   "cell_type": "code",
   "execution_count": null,
   "metadata": {
    "collapsed": true
   },
   "outputs": [],
   "source": []
  }
 ],
 "metadata": {
  "kernelspec": {
   "display_name": "Python [default]",
   "language": "python",
   "name": "python3"
  },
  "language_info": {
   "codemirror_mode": {
    "name": "ipython",
    "version": 3
   },
   "file_extension": ".py",
   "mimetype": "text/x-python",
   "name": "python",
   "nbconvert_exporter": "python",
   "pygments_lexer": "ipython3",
   "version": "3.5.3"
  }
 },
 "nbformat": 4,
 "nbformat_minor": 2
}
