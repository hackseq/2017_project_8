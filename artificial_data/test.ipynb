{
 "cells": [
  {
   "cell_type": "code",
   "execution_count": 69,
   "metadata": {},
   "outputs": [],
   "source": [
    "import pandas as pd\n",
    "from src.utils import *\n",
    "import seaborn as sns\n",
    "import matplotlib.pyplot as plt\n",
    "import random\n",
    "from scipy.stats import truncnorm"
   ]
  },
  {
   "cell_type": "code",
   "execution_count": 47,
   "metadata": {},
   "outputs": [
    {
     "data": {
      "text/html": [
       "<div>\n",
       "<table border=\"1\" class=\"dataframe\">\n",
       "  <thead>\n",
       "    <tr style=\"text-align: right;\">\n",
       "      <th></th>\n",
       "      <th>sgRNA-1</th>\n",
       "      <th>sgRNA-2</th>\n",
       "      <th>target_name</th>\n",
       "      <th>sgRNA_cut</th>\n",
       "      <th>num_worms</th>\n",
       "      <th>num_lines</th>\n",
       "      <th>sgRNA_type</th>\n",
       "      <th>promoter_used</th>\n",
       "      <th>cas9_type</th>\n",
       "      <th>screening_method</th>\n",
       "      <th>repair_mechanism</th>\n",
       "    </tr>\n",
       "  </thead>\n",
       "  <tbody>\n",
       "    <tr>\n",
       "      <th>0</th>\n",
       "      <td>GATTCTCGCGATAACCACGGTGG</td>\n",
       "      <td>NaN</td>\n",
       "      <td>rde-12</td>\n",
       "      <td>Yes</td>\n",
       "      <td>160</td>\n",
       "      <td>95.0</td>\n",
       "      <td>DNA</td>\n",
       "      <td>K09B11.12 U6 promoter</td>\n",
       "      <td>circular plasmid DNA</td>\n",
       "      <td>Positive selectable markers</td>\n",
       "      <td>NHEJ</td>\n",
       "    </tr>\n",
       "    <tr>\n",
       "      <th>1</th>\n",
       "      <td>GGACATTGACACTAAAATCAAGG</td>\n",
       "      <td>NaN</td>\n",
       "      <td>dpy-13</td>\n",
       "      <td>Yes</td>\n",
       "      <td>40</td>\n",
       "      <td>1.0</td>\n",
       "      <td>DNA</td>\n",
       "      <td>K09B11.12 U6 promoter</td>\n",
       "      <td>circular plasmid DNA</td>\n",
       "      <td>PCR and/or DNA sequencing</td>\n",
       "      <td>NHEJ</td>\n",
       "    </tr>\n",
       "    <tr>\n",
       "      <th>2</th>\n",
       "      <td>GTTATGAAGCTGACGGCGGACGG</td>\n",
       "      <td>NaN</td>\n",
       "      <td>dpy-13</td>\n",
       "      <td>Yes</td>\n",
       "      <td>35</td>\n",
       "      <td>3.0</td>\n",
       "      <td>DNA</td>\n",
       "      <td>K09B11.12 U6 promoter</td>\n",
       "      <td>circular plasmid DNA</td>\n",
       "      <td>phenotypic analysis</td>\n",
       "      <td>NHEJ</td>\n",
       "    </tr>\n",
       "    <tr>\n",
       "      <th>3</th>\n",
       "      <td>GGCAATGCTGAGTGACACGGTGG</td>\n",
       "      <td>NaN</td>\n",
       "      <td>dpy-7</td>\n",
       "      <td>Yes</td>\n",
       "      <td>300</td>\n",
       "      <td>240.0</td>\n",
       "      <td>DNA</td>\n",
       "      <td>K09B11.12 U6 promoter</td>\n",
       "      <td>circular plasmid DNA</td>\n",
       "      <td>phenotypic analysis</td>\n",
       "      <td>NHEJ</td>\n",
       "    </tr>\n",
       "    <tr>\n",
       "      <th>4</th>\n",
       "      <td>GCTACCATAGGCACCACGAGCGG</td>\n",
       "      <td>NaN</td>\n",
       "      <td>dpy-10</td>\n",
       "      <td>Yes</td>\n",
       "      <td>250</td>\n",
       "      <td>246.0</td>\n",
       "      <td>DNA</td>\n",
       "      <td>K09B11.12 U6 promoter</td>\n",
       "      <td>circular plasmid DNA</td>\n",
       "      <td>phenotypic analysis</td>\n",
       "      <td>NHEJ</td>\n",
       "    </tr>\n",
       "  </tbody>\n",
       "</table>\n",
       "</div>"
      ],
      "text/plain": [
       "                   sgRNA-1 sgRNA-2 target_name sgRNA_cut  num_worms  \\\n",
       "0  GATTCTCGCGATAACCACGGTGG     NaN      rde-12       Yes        160   \n",
       "1  GGACATTGACACTAAAATCAAGG     NaN      dpy-13       Yes         40   \n",
       "2  GTTATGAAGCTGACGGCGGACGG     NaN      dpy-13       Yes         35   \n",
       "3  GGCAATGCTGAGTGACACGGTGG     NaN       dpy-7       Yes        300   \n",
       "4  GCTACCATAGGCACCACGAGCGG     NaN      dpy-10       Yes        250   \n",
       "\n",
       "   num_lines sgRNA_type          promoter_used             cas9_type  \\\n",
       "0       95.0        DNA  K09B11.12 U6 promoter  circular plasmid DNA   \n",
       "1        1.0        DNA  K09B11.12 U6 promoter  circular plasmid DNA   \n",
       "2        3.0        DNA  K09B11.12 U6 promoter  circular plasmid DNA   \n",
       "3      240.0        DNA  K09B11.12 U6 promoter  circular plasmid DNA   \n",
       "4      246.0        DNA  K09B11.12 U6 promoter  circular plasmid DNA   \n",
       "\n",
       "              screening_method repair_mechanism  \n",
       "0  Positive selectable markers             NHEJ  \n",
       "1    PCR and/or DNA sequencing             NHEJ  \n",
       "2          phenotypic analysis             NHEJ  \n",
       "3          phenotypic analysis             NHEJ  \n",
       "4          phenotypic analysis             NHEJ  "
      ]
     },
     "execution_count": 47,
     "metadata": {},
     "output_type": "execute_result"
    }
   ],
   "source": [
    "real = pd.read_csv('./data/new/cleaned_celegans_crispr_data.csv')\n",
    "real.head()"
   ]
  },
  {
   "cell_type": "code",
   "execution_count": 48,
   "metadata": {},
   "outputs": [
    {
     "data": {
      "text/html": [
       "<div>\n",
       "<table border=\"1\" class=\"dataframe\">\n",
       "  <thead>\n",
       "    <tr style=\"text-align: right;\">\n",
       "      <th></th>\n",
       "      <th>sgRNA</th>\n",
       "      <th>target_name</th>\n",
       "      <th>true_PAM</th>\n",
       "    </tr>\n",
       "  </thead>\n",
       "  <tbody>\n",
       "    <tr>\n",
       "      <th>0</th>\n",
       "      <td>GCTCGAAATTTCCCTGCTCTCGAGGCAAGG</td>\n",
       "      <td>Y57G11C.33a</td>\n",
       "      <td>1</td>\n",
       "    </tr>\n",
       "    <tr>\n",
       "      <th>1</th>\n",
       "      <td>GTCTGGGAGAACACAATTGTCAGGATAAAT</td>\n",
       "      <td>Y57G11C.33a</td>\n",
       "      <td>1</td>\n",
       "    </tr>\n",
       "    <tr>\n",
       "      <th>2</th>\n",
       "      <td>GGACGATGGCTCAAATGCGAAATGGCACAA</td>\n",
       "      <td>Y57G11C.33a</td>\n",
       "      <td>1</td>\n",
       "    </tr>\n",
       "    <tr>\n",
       "      <th>3</th>\n",
       "      <td>GTCAGTGAAATTGTGAAGGGAGGACTAGCG</td>\n",
       "      <td>C52A11.4i</td>\n",
       "      <td>1</td>\n",
       "    </tr>\n",
       "    <tr>\n",
       "      <th>4</th>\n",
       "      <td>GTCGGGAGAAAGAATGAACCGGGTGTATAT</td>\n",
       "      <td>C52A11.4i</td>\n",
       "      <td>1</td>\n",
       "    </tr>\n",
       "  </tbody>\n",
       "</table>\n",
       "</div>"
      ],
      "text/plain": [
       "                            sgRNA  target_name  true_PAM\n",
       "0  GCTCGAAATTTCCCTGCTCTCGAGGCAAGG  Y57G11C.33a         1\n",
       "1  GTCTGGGAGAACACAATTGTCAGGATAAAT  Y57G11C.33a         1\n",
       "2  GGACGATGGCTCAAATGCGAAATGGCACAA  Y57G11C.33a         1\n",
       "3  GTCAGTGAAATTGTGAAGGGAGGACTAGCG    C52A11.4i         1\n",
       "4  GTCGGGAGAAAGAATGAACCGGGTGTATAT    C52A11.4i         1"
      ]
     },
     "execution_count": 48,
     "metadata": {},
     "output_type": "execute_result"
    }
   ],
   "source": [
    "dumy = pd.read_csv('./data/new/sgRNA_dummy_candidates.csv')\n",
    "dumy.head()"
   ]
  },
  {
   "cell_type": "code",
   "execution_count": 49,
   "metadata": {},
   "outputs": [
    {
     "data": {
      "text/html": [
       "<div>\n",
       "<table border=\"1\" class=\"dataframe\">\n",
       "  <thead>\n",
       "    <tr style=\"text-align: right;\">\n",
       "      <th></th>\n",
       "      <th>num_worms</th>\n",
       "      <th>num_lines</th>\n",
       "    </tr>\n",
       "  </thead>\n",
       "  <tbody>\n",
       "    <tr>\n",
       "      <th>num_worms</th>\n",
       "      <td>1.000000</td>\n",
       "      <td>0.879828</td>\n",
       "    </tr>\n",
       "    <tr>\n",
       "      <th>num_lines</th>\n",
       "      <td>0.879828</td>\n",
       "      <td>1.000000</td>\n",
       "    </tr>\n",
       "  </tbody>\n",
       "</table>\n",
       "</div>"
      ],
      "text/plain": [
       "           num_worms  num_lines\n",
       "num_worms   1.000000   0.879828\n",
       "num_lines   0.879828   1.000000"
      ]
     },
     "execution_count": 49,
     "metadata": {},
     "output_type": "execute_result"
    }
   ],
   "source": [
    "real.corr()"
   ]
  },
  {
   "cell_type": "markdown",
   "metadata": {},
   "source": [
    "## Further Filtering dummy candidates by similarity between real data"
   ]
  },
  {
   "cell_type": "code",
   "execution_count": 50,
   "metadata": {},
   "outputs": [],
   "source": [
    "real_melt_temps = list(map(melt_temp, list(real['sgRNA-1'])))\n",
    "real_gc_counts = list(map(calc_gc, list(real['sgRNA-1'])))"
   ]
  },
  {
   "cell_type": "code",
   "execution_count": 51,
   "metadata": {
    "collapsed": true
   },
   "outputs": [],
   "source": [
    "dumy['melting_temp'] = pd.Series(map(melt_temp, list(dumy['sgRNA'])))\n",
    "dumy['gc_counts'] = pd.Series(map(calc_gc, list(dumy['sgRNA'])))"
   ]
  },
  {
   "cell_type": "code",
   "execution_count": 52,
   "metadata": {},
   "outputs": [],
   "source": [
    "dumy = dumy[((dumy['melting_temp'] > min(real_gc_counts)) & \n",
    "             (dumy['melting_temp'] < max(real_gc_counts))) & \n",
    "             ((dumy['gc_counts'] > min(real_melt_temps)) & \n",
    "             (dumy['gc_counts'] < max(real_melt_temps))) ].reset_index(drop=True)"
   ]
  },
  {
   "cell_type": "code",
   "execution_count": 53,
   "metadata": {},
   "outputs": [
    {
     "data": {
      "text/plain": [
       "(92718, 5)"
      ]
     },
     "execution_count": 53,
     "metadata": {},
     "output_type": "execute_result"
    }
   ],
   "source": [
    "dumy.shape"
   ]
  },
  {
   "cell_type": "markdown",
   "metadata": {},
   "source": [
    "## Check the Variables and Look for Patterns\n",
    "\n",
    "---\n"
   ]
  },
  {
   "cell_type": "markdown",
   "metadata": {},
   "source": [
    "## sgRNA_cut"
   ]
  },
  {
   "cell_type": "code",
   "execution_count": 54,
   "metadata": {},
   "outputs": [],
   "source": [
    "real['sgRNA_cut'] = real['sgRNA_cut'].map({'Yes': 1, 'No': 0})"
   ]
  },
  {
   "cell_type": "code",
   "execution_count": 59,
   "metadata": {},
   "outputs": [
    {
     "name": "stdout",
     "output_type": "stream",
     "text": [
      "0.863013698630137 0.136986301369863\n"
     ]
    }
   ],
   "source": [
    "pos_ratio = real[real['sgRNA_cut'] == 1].shape[0] / len(real['sgRNA_cut'])\n",
    "neg_ratio = real[real['sgRNA_cut'] == 0].shape[0] / len(real['sgRNA_cut'])\n",
    "print(pos_ratio, neg_ratio)"
   ]
  },
  {
   "cell_type": "code",
   "execution_count": 65,
   "metadata": {},
   "outputs": [],
   "source": [
    "# Create artificial data points by keeping the real rations\n",
    "pos_lst = []\n",
    "neg_lst = []\n",
    "pos_lst = [1] * int(np.ceil(pos_ratio*dumy.shape[0]))\n",
    "neg_lst = [0] * int(np.floor(neg_ratio*dumy.shape[0]))\n",
    "cut_lst = pos_lst + neg_lst\n",
    "random.shuffle(cut_lst)"
   ]
  },
  {
   "cell_type": "markdown",
   "metadata": {},
   "source": [
    "## num_worms"
   ]
  },
  {
   "cell_type": "code",
   "execution_count": 84,
   "metadata": {},
   "outputs": [],
   "source": [
    "# Getting min and max of real data \n",
    "a, b = min(real['num_worms']), max(real['num_worms'])\n",
    "# Getting mean and standard deviation of real data\n",
    "mu, sigma = np.mean(real['num_worms']), np.std(real['num_worms'])\n",
    "# Create the distribution object\n",
    "dist = truncnorm((a - mu) / sigma, (b - mu) / sigma, loc=mu, scale=sigma)\n",
    "# Creat data size number of values\n",
    "values = dist.rvs(dumy.shape[0])\n",
    "num_worms_lst = [int(i) for i in values]"
   ]
  },
  {
   "cell_type": "markdown",
   "metadata": {},
   "source": [
    "## num_lines"
   ]
  },
  {
   "cell_type": "code",
   "execution_count": 85,
   "metadata": {
    "collapsed": true
   },
   "outputs": [],
   "source": [
    "# Getting min and max of real data \n",
    "a, b = min(real['num_lines']), max(real['num_lines'])\n",
    "# Getting mean and standard deviation of real data\n",
    "mu, sigma = np.mean(real['num_lines']), np.std(real['num_lines'])\n",
    "# Create the distribution object\n",
    "dist = truncnorm((a - mu) / sigma, (b - mu) / sigma, loc=mu, scale=sigma)\n",
    "# Creat data size number of values\n",
    "values = dist.rvs(dumy.shape[0])\n",
    "num_lines_lst = [int(i) for i in values]"
   ]
  },
  {
   "cell_type": "code",
   "execution_count": 88,
   "metadata": {},
   "outputs": [],
   "source": [
    "# Adding the simulated lists into dataframe\n",
    "dumy['sgRNA_cut'] = pd.Series(cut_lst)\n",
    "dumy['num_worms'] = pd.Series(num_worms_lst)\n",
    "dumy['num_lines'] = pd.Series(num_lines_lst)\n",
    "\n",
    "# Reorganize the columns\n",
    "dumy = dumy[['sgRNA', 'target_name', 'sgRNA_cut', 'num_worms', 'num_lines',\n",
    "                             'melting_temp', 'gc_counts', 'true_PAM']]\n",
    "\n",
    "# Drop the unused columns \n",
    "dumy = dumy.drop(['melting_temp', 'gc_counts', 'true_PAM'], axis=1)"
   ]
  },
  {
   "cell_type": "code",
   "execution_count": 90,
   "metadata": {},
   "outputs": [
    {
     "data": {
      "text/html": [
       "<div>\n",
       "<table border=\"1\" class=\"dataframe\">\n",
       "  <thead>\n",
       "    <tr style=\"text-align: right;\">\n",
       "      <th></th>\n",
       "      <th>sgRNA</th>\n",
       "      <th>target_name</th>\n",
       "      <th>sgRNA_cut</th>\n",
       "      <th>num_worms</th>\n",
       "      <th>num_lines</th>\n",
       "    </tr>\n",
       "  </thead>\n",
       "  <tbody>\n",
       "    <tr>\n",
       "      <th>0</th>\n",
       "      <td>GCTCGAAATTTCCCTGCTCTCGAGGCAAGG</td>\n",
       "      <td>Y57G11C.33a</td>\n",
       "      <td>1</td>\n",
       "      <td>115</td>\n",
       "      <td>97</td>\n",
       "    </tr>\n",
       "    <tr>\n",
       "      <th>1</th>\n",
       "      <td>GGACGATGGCTCAAATGCGAAATGGCACAA</td>\n",
       "      <td>Y57G11C.33a</td>\n",
       "      <td>1</td>\n",
       "      <td>73</td>\n",
       "      <td>4</td>\n",
       "    </tr>\n",
       "    <tr>\n",
       "      <th>2</th>\n",
       "      <td>GTCAGTGAAATTGTGAAGGGAGGACTAGCG</td>\n",
       "      <td>C52A11.4i</td>\n",
       "      <td>1</td>\n",
       "      <td>55</td>\n",
       "      <td>16</td>\n",
       "    </tr>\n",
       "    <tr>\n",
       "      <th>3</th>\n",
       "      <td>GTCGGGAGAAAGAATGAACCGGGTGTATAT</td>\n",
       "      <td>C52A11.4i</td>\n",
       "      <td>1</td>\n",
       "      <td>62</td>\n",
       "      <td>79</td>\n",
       "    </tr>\n",
       "    <tr>\n",
       "      <th>4</th>\n",
       "      <td>GTGAGACTCAACAAGAACCAGCTGGATTGT</td>\n",
       "      <td>C52A11.4i</td>\n",
       "      <td>1</td>\n",
       "      <td>142</td>\n",
       "      <td>24</td>\n",
       "    </tr>\n",
       "  </tbody>\n",
       "</table>\n",
       "</div>"
      ],
      "text/plain": [
       "                            sgRNA  target_name  sgRNA_cut  num_worms  \\\n",
       "0  GCTCGAAATTTCCCTGCTCTCGAGGCAAGG  Y57G11C.33a          1        115   \n",
       "1  GGACGATGGCTCAAATGCGAAATGGCACAA  Y57G11C.33a          1         73   \n",
       "2  GTCAGTGAAATTGTGAAGGGAGGACTAGCG    C52A11.4i          1         55   \n",
       "3  GTCGGGAGAAAGAATGAACCGGGTGTATAT    C52A11.4i          1         62   \n",
       "4  GTGAGACTCAACAAGAACCAGCTGGATTGT    C52A11.4i          1        142   \n",
       "\n",
       "   num_lines  \n",
       "0         97  \n",
       "1          4  \n",
       "2         16  \n",
       "3         79  \n",
       "4         24  "
      ]
     },
     "execution_count": 90,
     "metadata": {},
     "output_type": "execute_result"
    }
   ],
   "source": [
    "dumy.head()"
   ]
  },
  {
   "cell_type": "code",
   "execution_count": 91,
   "metadata": {
    "collapsed": true
   },
   "outputs": [],
   "source": [
    "dumy.to_csv('./data/new/artificial_sgRNA_c_elegans_data.csv', index=None)"
   ]
  },
  {
   "cell_type": "code",
   "execution_count": null,
   "metadata": {
    "collapsed": true
   },
   "outputs": [],
   "source": []
  }
 ],
 "metadata": {
  "kernelspec": {
   "display_name": "Python [default]",
   "language": "python",
   "name": "python3"
  },
  "language_info": {
   "codemirror_mode": {
    "name": "ipython",
    "version": 3
   },
   "file_extension": ".py",
   "mimetype": "text/x-python",
   "name": "python",
   "nbconvert_exporter": "python",
   "pygments_lexer": "ipython3",
   "version": "3.5.3"
  }
 },
 "nbformat": 4,
 "nbformat_minor": 2
}
